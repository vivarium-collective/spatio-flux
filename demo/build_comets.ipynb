{
 "cells": [
  {
   "cell_type": "code",
   "id": "initial_id",
   "metadata": {
    "collapsed": true,
    "ExecuteTime": {
     "end_time": "2025-04-07T14:22:45.279274Z",
     "start_time": "2025-04-07T14:22:45.276438Z"
    }
   },
   "source": [
    "import numpy as np\n",
    "from vivarium import Vivarium\n",
    "from spatio_flux import PROCESS_DICT, TYPES_DICT, build_path"
   ],
   "outputs": [],
   "execution_count": 35
  },
  {
   "metadata": {
    "ExecuteTime": {
     "end_time": "2025-04-07T14:22:45.298375Z",
     "start_time": "2025-04-07T14:22:45.285956Z"
    }
   },
   "cell_type": "code",
   "source": "v = Vivarium(processes=PROCESS_DICT, types=TYPES_DICT)",
   "id": "66f96b03df1eb3b0",
   "outputs": [],
   "execution_count": 36
  },
  {
   "metadata": {
    "ExecuteTime": {
     "end_time": "2025-04-07T14:22:45.308623Z",
     "start_time": "2025-04-07T14:22:45.304092Z"
    }
   },
   "cell_type": "code",
   "source": "v.get_types()",
   "id": "6da148ba9e2bba1f",
   "outputs": [
    {
     "data": {
      "text/plain": [
       "                               Type\n",
       "0                                  \n",
       "1                         composite\n",
       "2                       length/time\n",
       "3                              enum\n",
       "4    current^2*time^3/length^2*mass\n",
       "..                              ...\n",
       "97                              any\n",
       "98                      mass/length\n",
       "99              mass/current*time^2\n",
       "100                        kinetics\n",
       "101                          bounds\n",
       "\n",
       "[102 rows x 1 columns]"
      ],
      "text/html": [
       "<div>\n",
       "<style scoped>\n",
       "    .dataframe tbody tr th:only-of-type {\n",
       "        vertical-align: middle;\n",
       "    }\n",
       "\n",
       "    .dataframe tbody tr th {\n",
       "        vertical-align: top;\n",
       "    }\n",
       "\n",
       "    .dataframe thead th {\n",
       "        text-align: right;\n",
       "    }\n",
       "</style>\n",
       "<table border=\"1\" class=\"dataframe\">\n",
       "  <thead>\n",
       "    <tr style=\"text-align: right;\">\n",
       "      <th></th>\n",
       "      <th>Type</th>\n",
       "    </tr>\n",
       "  </thead>\n",
       "  <tbody>\n",
       "    <tr>\n",
       "      <th>0</th>\n",
       "      <td></td>\n",
       "    </tr>\n",
       "    <tr>\n",
       "      <th>1</th>\n",
       "      <td>composite</td>\n",
       "    </tr>\n",
       "    <tr>\n",
       "      <th>2</th>\n",
       "      <td>length/time</td>\n",
       "    </tr>\n",
       "    <tr>\n",
       "      <th>3</th>\n",
       "      <td>enum</td>\n",
       "    </tr>\n",
       "    <tr>\n",
       "      <th>4</th>\n",
       "      <td>current^2*time^3/length^2*mass</td>\n",
       "    </tr>\n",
       "    <tr>\n",
       "      <th>...</th>\n",
       "      <td>...</td>\n",
       "    </tr>\n",
       "    <tr>\n",
       "      <th>97</th>\n",
       "      <td>any</td>\n",
       "    </tr>\n",
       "    <tr>\n",
       "      <th>98</th>\n",
       "      <td>mass/length</td>\n",
       "    </tr>\n",
       "    <tr>\n",
       "      <th>99</th>\n",
       "      <td>mass/current*time^2</td>\n",
       "    </tr>\n",
       "    <tr>\n",
       "      <th>100</th>\n",
       "      <td>kinetics</td>\n",
       "    </tr>\n",
       "    <tr>\n",
       "      <th>101</th>\n",
       "      <td>bounds</td>\n",
       "    </tr>\n",
       "  </tbody>\n",
       "</table>\n",
       "<p>102 rows × 1 columns</p>\n",
       "</div>"
      ]
     },
     "execution_count": 37,
     "metadata": {},
     "output_type": "execute_result"
    }
   ],
   "execution_count": 37
  },
  {
   "metadata": {
    "ExecuteTime": {
     "end_time": "2025-04-07T14:22:45.332543Z",
     "start_time": "2025-04-07T14:22:45.329854Z"
    }
   },
   "cell_type": "code",
   "source": [
    "# view the available processes\n",
    "v.get_processes()"
   ],
   "id": "aaa56a31b99950ad",
   "outputs": [
    {
     "data": {
      "text/plain": [
       "              Process\n",
       "0         ram-emitter\n",
       "1           composite\n",
       "2     console-emitter\n",
       "3          DynamicFBA\n",
       "4        json-emitter\n",
       "5  DiffusionAdvection\n",
       "6           Particles\n",
       "7     MinimalParticle"
      ],
      "text/html": [
       "<div>\n",
       "<style scoped>\n",
       "    .dataframe tbody tr th:only-of-type {\n",
       "        vertical-align: middle;\n",
       "    }\n",
       "\n",
       "    .dataframe tbody tr th {\n",
       "        vertical-align: top;\n",
       "    }\n",
       "\n",
       "    .dataframe thead th {\n",
       "        text-align: right;\n",
       "    }\n",
       "</style>\n",
       "<table border=\"1\" class=\"dataframe\">\n",
       "  <thead>\n",
       "    <tr style=\"text-align: right;\">\n",
       "      <th></th>\n",
       "      <th>Process</th>\n",
       "    </tr>\n",
       "  </thead>\n",
       "  <tbody>\n",
       "    <tr>\n",
       "      <th>0</th>\n",
       "      <td>ram-emitter</td>\n",
       "    </tr>\n",
       "    <tr>\n",
       "      <th>1</th>\n",
       "      <td>composite</td>\n",
       "    </tr>\n",
       "    <tr>\n",
       "      <th>2</th>\n",
       "      <td>console-emitter</td>\n",
       "    </tr>\n",
       "    <tr>\n",
       "      <th>3</th>\n",
       "      <td>DynamicFBA</td>\n",
       "    </tr>\n",
       "    <tr>\n",
       "      <th>4</th>\n",
       "      <td>json-emitter</td>\n",
       "    </tr>\n",
       "    <tr>\n",
       "      <th>5</th>\n",
       "      <td>DiffusionAdvection</td>\n",
       "    </tr>\n",
       "    <tr>\n",
       "      <th>6</th>\n",
       "      <td>Particles</td>\n",
       "    </tr>\n",
       "    <tr>\n",
       "      <th>7</th>\n",
       "      <td>MinimalParticle</td>\n",
       "    </tr>\n",
       "  </tbody>\n",
       "</table>\n",
       "</div>"
      ]
     },
     "execution_count": 38,
     "metadata": {},
     "output_type": "execute_result"
    }
   ],
   "execution_count": 38
  },
  {
   "metadata": {},
   "cell_type": "markdown",
   "source": "## dFBA alone",
   "id": "9cb058a2cfce5404"
  },
  {
   "metadata": {
    "ExecuteTime": {
     "end_time": "2025-04-07T14:22:45.365853Z",
     "start_time": "2025-04-07T14:22:45.363817Z"
    }
   },
   "cell_type": "code",
   "source": [
    "# inspect the config schema for the 'increase' process\n",
    "v.process_schema('DynamicFBA')"
   ],
   "id": "3b09457fe1bd1693",
   "outputs": [
    {
     "data": {
      "text/plain": [
       "'(model_file:string|kinetic_params:map[tuple[float,float]]|substrate_update_reactions:map[string]|biomass_identifier:string|bounds:map[bounds])'"
      ]
     },
     "execution_count": 39,
     "metadata": {},
     "output_type": "execute_result"
    }
   ],
   "execution_count": 39
  },
  {
   "metadata": {
    "ExecuteTime": {
     "end_time": "2025-04-07T14:22:45.394175Z",
     "start_time": "2025-04-07T14:22:45.392064Z"
    }
   },
   "cell_type": "code",
   "source": [
    "# TODO - enable get_dataclass to work with the new process\n",
    "# dfba_config  = v.get_dataclass('DynamicFBA')\n",
    "dfba_config = {\n",
    "    \"model_file\": \"textbook\",\n",
    "    \"kinetic_params\": {\n",
    "        \"glucose\": (0.5, 1),\n",
    "        \"acetate\": (0.5, 2)},\n",
    "    \"substrate_update_reactions\": {\n",
    "        \"glucose\": \"EX_glc__D_e\",\n",
    "        \"acetate\": \"EX_ac_e\"},\n",
    "    \"biomass_identifier\": \"biomass\",\n",
    "    \"bounds\": {\n",
    "        \"EX_o2_e\": {\"lower\": -2, \"upper\": None},\n",
    "        \"ATPM\": {\"lower\": 1, \"upper\": 1}\n",
    "    }\n",
    "}"
   ],
   "id": "22e0d7390501d00f",
   "outputs": [],
   "execution_count": 40
  },
  {
   "metadata": {
    "ExecuteTime": {
     "end_time": "2025-04-07T14:22:45.477098Z",
     "start_time": "2025-04-07T14:22:45.408379Z"
    }
   },
   "cell_type": "code",
   "source": [
    "# add a dynamic FBA process called 'dFBA'\n",
    "v.add_process(name=\"dFBA\",\n",
    "              process_id=\"DynamicFBA\",\n",
    "              config=dfba_config,\n",
    "              )\n",
    "v.diagram(dpi='70')"
   ],
   "id": "25737cdd3ed3d5d2",
   "outputs": [
    {
     "data": {
      "image/svg+xml": "<?xml version=\"1.0\" encoding=\"UTF-8\" standalone=\"no\"?>\n<!DOCTYPE svg PUBLIC \"-//W3C//DTD SVG 1.1//EN\"\n \"http://www.w3.org/Graphics/SVG/1.1/DTD/svg11.dtd\">\n<!-- Generated by graphviz version 9.0.0 (0)\n -->\n<!-- Title: bigraph Pages: 1 -->\n<svg width=\"194pt\" height=\"162pt\"\n viewBox=\"0.00 0.00 199.58 166.28\" xmlns=\"http://www.w3.org/2000/svg\" xmlns:xlink=\"http://www.w3.org/1999/xlink\">\n<g id=\"graph0\" class=\"graph\" transform=\"scale(0.972222 0.972222) rotate(0) translate(4 162.28)\">\n<title>bigraph</title>\n<polygon fill=\"white\" stroke=\"none\" points=\"-4,4 -4,-162.28 195.58,-162.28 195.58,4 -4,4\"/>\n<!-- (&#39;global_time&#39;,) -->\n<g id=\"node1\" class=\"node\">\n<title>(&#39;global_time&#39;,)</title>\n<ellipse fill=\"none\" stroke=\"black\" stroke-width=\"2\" cx=\"38.14\" cy=\"-120.14\" rx=\"38.14\" ry=\"38.14\"/>\n<text text-anchor=\"start\" x=\"9.48\" y=\"-116.54\" font-family=\"Times,serif\" font-size=\"12.00\">global_time</text>\n</g>\n<!-- (&#39;dFBA&#39;,) -->\n<g id=\"node2\" class=\"node\">\n<title>(&#39;dFBA&#39;,)</title>\n<polygon fill=\"none\" stroke=\"black\" stroke-width=\"2\" points=\"166.14,-36 112.14,-36 112.14,0 166.14,0 166.14,-36\"/>\n<text text-anchor=\"start\" x=\"124.47\" y=\"-14.4\" font-family=\"Times,serif\" font-size=\"12.00\">dFBA</text>\n</g>\n<!-- (&#39;dFBA&#39;, &#39;s&#39;, &#39;u&#39;, &#39;b&#39;, &#39;s&#39;, &#39;t&#39;, &#39;r&#39;, &#39;a&#39;, &#39;t&#39;, &#39;e&#39;, &#39;s&#39;)_input -->\n<!-- (&#39;dFBA&#39;, &#39;s&#39;, &#39;u&#39;, &#39;b&#39;, &#39;s&#39;, &#39;t&#39;, &#39;r&#39;, &#39;a&#39;, &#39;t&#39;, &#39;e&#39;, &#39;s&#39;)_input&#45;&gt;(&#39;dFBA&#39;,) -->\n<g id=\"edge1\" class=\"edge\">\n<title>(&#39;dFBA&#39;, &#39;s&#39;, &#39;u&#39;, &#39;b&#39;, &#39;s&#39;, &#39;t&#39;, &#39;r&#39;, &#39;a&#39;, &#39;t&#39;, &#39;e&#39;, &#39;s&#39;)_input&#45;&gt;(&#39;dFBA&#39;,)</title>\n<path fill=\"none\" stroke=\"black\" stroke-dasharray=\"5,2\" d=\"M105.68,-106.17C103.71,-92.67 102.21,-71.13 108.7,-54 109.72,-51.3 111.06,-48.67 112.6,-46.14\"/>\n<polygon fill=\"black\" stroke=\"black\" points=\"115.33,-48.33 118.42,-38.19 109.68,-44.19 115.33,-48.33\"/>\n<text text-anchor=\"start\" x=\"108.14\" y=\"-56\" font-family=\"Times,serif\" font-size=\"10.00\">substrates</text>\n</g>\n<!-- (&#39;dFBA&#39;, &#39;s&#39;, &#39;u&#39;, &#39;b&#39;, &#39;s&#39;, &#39;t&#39;, &#39;r&#39;, &#39;a&#39;, &#39;t&#39;, &#39;e&#39;, &#39;s&#39;)_output -->\n<!-- (&#39;dFBA&#39;, &#39;s&#39;, &#39;u&#39;, &#39;b&#39;, &#39;s&#39;, &#39;t&#39;, &#39;r&#39;, &#39;a&#39;, &#39;t&#39;, &#39;e&#39;, &#39;s&#39;)_output&#45;&gt;(&#39;dFBA&#39;,) -->\n<g id=\"edge2\" class=\"edge\">\n<title>(&#39;dFBA&#39;, &#39;s&#39;, &#39;u&#39;, &#39;b&#39;, &#39;s&#39;, &#39;t&#39;, &#39;r&#39;, &#39;a&#39;, &#39;t&#39;, &#39;e&#39;, &#39;s&#39;)_output&#45;&gt;(&#39;dFBA&#39;,)</title>\n<path fill=\"none\" stroke=\"black\" stroke-dasharray=\"5,2\" d=\"M162.82,-95.49C157.27,-77.58 149.77,-53.34 144.71,-36.99\"/>\n<polygon fill=\"black\" stroke=\"black\" points=\"159.46,-96.49 165.76,-105.01 166.15,-94.42 159.46,-96.49\"/>\n<text text-anchor=\"start\" x=\"152.14\" y=\"-56\" font-family=\"Times,serif\" font-size=\"10.00\">substrates</text>\n</g>\n</g>\n</svg>\n",
      "text/plain": [
       "<graphviz.graphs.Digraph at 0x1683bde10>"
      ]
     },
     "execution_count": 41,
     "metadata": {},
     "output_type": "execute_result"
    }
   ],
   "execution_count": 41
  },
  {
   "metadata": {
    "ExecuteTime": {
     "end_time": "2025-04-07T14:22:45.514675Z",
     "start_time": "2025-04-07T14:22:45.481524Z"
    }
   },
   "cell_type": "code",
   "source": [
    "mol_ids = [\"glucose\", \"acetate\", \"biomass\"]\n",
    "path=[\"fields\"]\n",
    "i = 0\n",
    "j = 0\n",
    "\n",
    "v.connect_process(\n",
    "    process_name=\"dFBA\",\n",
    "    inputs={\n",
    "            \"substrates\": {\n",
    "                mol_id: build_path(mol_id, path, i, j)\n",
    "                for mol_id in mol_ids}\n",
    "        },\n",
    "    outputs={\n",
    "            \"substrates\": {\n",
    "                mol_id: build_path(mol_id, path, i, j)\n",
    "                for mol_id in mol_ids}\n",
    "        }\n",
    ")\n",
    "\n",
    "# add an emitter to save results\n",
    "v.add_emitter()\n",
    "\n",
    "# TODO -- show_values does not work\n",
    "v.diagram(dpi='70', show_values=True)"
   ],
   "id": "7229543edc8a0969",
   "outputs": [
    {
     "data": {
      "image/svg+xml": "<?xml version=\"1.0\" encoding=\"UTF-8\" standalone=\"no\"?>\n<!DOCTYPE svg PUBLIC \"-//W3C//DTD SVG 1.1//EN\"\n \"http://www.w3.org/Graphics/SVG/1.1/DTD/svg11.dtd\">\n<!-- Generated by graphviz version 9.0.0 (0)\n -->\n<!-- Title: bigraph Pages: 1 -->\n<svg width=\"504pt\" height=\"402pt\"\n viewBox=\"0.00 0.00 518.80 413.29\" xmlns=\"http://www.w3.org/2000/svg\" xmlns:xlink=\"http://www.w3.org/1999/xlink\">\n<g id=\"graph0\" class=\"graph\" transform=\"scale(0.972222 0.972222) rotate(0) translate(4 409.29)\">\n<title>bigraph</title>\n<polygon fill=\"white\" stroke=\"none\" points=\"-4,4 -4,-409.29 514.8,-409.29 514.8,4 -4,4\"/>\n<!-- (&#39;global_time&#39;,) -->\n<g id=\"node1\" class=\"node\">\n<title>(&#39;global_time&#39;,)</title>\n<ellipse fill=\"none\" stroke=\"black\" stroke-width=\"2\" cx=\"71.8\" cy=\"-367.15\" rx=\"38.14\" ry=\"38.14\"/>\n<text text-anchor=\"start\" x=\"43.14\" y=\"-363.55\" font-family=\"Times,serif\" font-size=\"12.00\">global_time</text>\n</g>\n<!-- (&#39;emitter&#39;,) -->\n<g id=\"node13\" class=\"node\">\n<title>(&#39;emitter&#39;,)</title>\n<polygon fill=\"none\" stroke=\"black\" stroke-width=\"2\" points=\"98.8,-273.51 44.8,-273.51 44.8,-237.51 98.8,-237.51 98.8,-273.51\"/>\n<text text-anchor=\"start\" x=\"54.81\" y=\"-251.91\" font-family=\"Times,serif\" font-size=\"12.00\">emitter</text>\n</g>\n<!-- (&#39;global_time&#39;,)&#45;&gt;(&#39;emitter&#39;,) -->\n<g id=\"edge13\" class=\"edge\">\n<title>(&#39;global_time&#39;,)&#45;&gt;(&#39;emitter&#39;,)</title>\n<path fill=\"none\" stroke=\"black\" stroke-dasharray=\"5,2\" d=\"M71.8,-328.11C71.8,-314.19 71.8,-298.67 71.8,-285.64\"/>\n<polygon fill=\"black\" stroke=\"black\" points=\"75.3,-286.02 71.8,-276.02 68.3,-286.02 75.3,-286.02\"/>\n<text text-anchor=\"start\" x=\"71.8\" y=\"-303.01\" font-family=\"Times,serif\" font-size=\"10.00\">global_time</text>\n</g>\n<!-- (&#39;fields&#39;,) -->\n<g id=\"node2\" class=\"node\">\n<title>(&#39;fields&#39;,)</title>\n<ellipse fill=\"none\" stroke=\"black\" stroke-width=\"2\" cx=\"196.8\" cy=\"-367.15\" rx=\"19.63\" ry=\"19.63\"/>\n<text text-anchor=\"start\" x=\"183.8\" y=\"-363.55\" font-family=\"Times,serif\" font-size=\"12.00\">fields</text>\n</g>\n<!-- (&#39;fields&#39;, &#39;glucose&#39;) -->\n<g id=\"node3\" class=\"node\">\n<title>(&#39;fields&#39;, &#39;glucose&#39;)</title>\n<ellipse fill=\"none\" stroke=\"black\" stroke-width=\"2\" cx=\"142.8\" cy=\"-255.51\" rx=\"25.92\" ry=\"25.92\"/>\n<text text-anchor=\"start\" x=\"124.48\" y=\"-251.91\" font-family=\"Times,serif\" font-size=\"12.00\">glucose</text>\n</g>\n<!-- (&#39;fields&#39;,)&#45;&gt;(&#39;fields&#39;, &#39;glucose&#39;) -->\n<g id=\"edge1\" class=\"edge\">\n<title>(&#39;fields&#39;,)&#45;&gt;(&#39;fields&#39;, &#39;glucose&#39;)</title>\n<path fill=\"none\" stroke=\"black\" stroke-width=\"2\" d=\"M190.08,-347.85C185.01,-334.6 177.61,-316.41 169.8,-301.01 165.96,-293.43 161.3,-285.42 156.94,-278.31\"/>\n</g>\n<!-- (&#39;fields&#39;, &#39;acetate&#39;) -->\n<g id=\"node6\" class=\"node\">\n<title>(&#39;fields&#39;, &#39;acetate&#39;)</title>\n<ellipse fill=\"none\" stroke=\"black\" stroke-width=\"2\" cx=\"210.8\" cy=\"-255.51\" rx=\"23.94\" ry=\"23.94\"/>\n<text text-anchor=\"start\" x=\"194.15\" y=\"-251.91\" font-family=\"Times,serif\" font-size=\"12.00\">acetate</text>\n</g>\n<!-- (&#39;fields&#39;,)&#45;&gt;(&#39;fields&#39;, &#39;acetate&#39;) -->\n<g id=\"edge4\" class=\"edge\">\n<title>(&#39;fields&#39;,)&#45;&gt;(&#39;fields&#39;, &#39;acetate&#39;)</title>\n<path fill=\"none\" stroke=\"black\" stroke-width=\"2\" d=\"M199.27,-346.8C201.64,-328.23 205.23,-300.15 207.77,-280.24\"/>\n</g>\n<!-- (&#39;fields&#39;, &#39;biomass&#39;) -->\n<g id=\"node9\" class=\"node\">\n<title>(&#39;fields&#39;, &#39;biomass&#39;)</title>\n<ellipse fill=\"none\" stroke=\"black\" stroke-width=\"2\" cx=\"308.8\" cy=\"-255.51\" rx=\"27.51\" ry=\"27.51\"/>\n<text text-anchor=\"start\" x=\"289.14\" y=\"-251.91\" font-family=\"Times,serif\" font-size=\"12.00\">biomass</text>\n</g>\n<!-- (&#39;fields&#39;,)&#45;&gt;(&#39;fields&#39;, &#39;biomass&#39;) -->\n<g id=\"edge7\" class=\"edge\">\n<title>(&#39;fields&#39;,)&#45;&gt;(&#39;fields&#39;, &#39;biomass&#39;)</title>\n<path fill=\"none\" stroke=\"black\" stroke-width=\"2\" d=\"M210.99,-352.26C230.77,-332.9 266.71,-297.71 289.09,-275.81\"/>\n</g>\n<!-- (&#39;fields&#39;,)&#45;&gt;(&#39;emitter&#39;,) -->\n<g id=\"edge14\" class=\"edge\">\n<title>(&#39;fields&#39;,)&#45;&gt;(&#39;emitter&#39;,)</title>\n<path fill=\"none\" stroke=\"black\" stroke-dasharray=\"5,2\" d=\"M182.06,-352.83C167.37,-339.61 144.14,-318.78 123.8,-301.01 116.54,-294.66 108.65,-287.86 101.26,-281.53\"/>\n<polygon fill=\"black\" stroke=\"black\" points=\"103.92,-279.2 94.04,-275.36 99.37,-284.52 103.92,-279.2\"/>\n<text text-anchor=\"start\" x=\"134.8\" y=\"-303.01\" font-family=\"Times,serif\" font-size=\"10.00\">fields</text>\n</g>\n<!-- (&#39;fields&#39;, &#39;glucose&#39;, 0) -->\n<g id=\"node4\" class=\"node\">\n<title>(&#39;fields&#39;, &#39;glucose&#39;, 0)</title>\n<ellipse fill=\"none\" stroke=\"black\" stroke-width=\"2\" cx=\"132.8\" cy=\"-173\" rx=\"18\" ry=\"18\"/>\n<text text-anchor=\"start\" x=\"129.8\" y=\"-169.4\" font-family=\"Times,serif\" font-size=\"12.00\">0</text>\n</g>\n<!-- (&#39;fields&#39;, &#39;glucose&#39;)&#45;&gt;(&#39;fields&#39;, &#39;glucose&#39;, 0) -->\n<g id=\"edge2\" class=\"edge\">\n<title>(&#39;fields&#39;, &#39;glucose&#39;)&#45;&gt;(&#39;fields&#39;, &#39;glucose&#39;, 0)</title>\n<path fill=\"none\" stroke=\"black\" stroke-width=\"2\" d=\"M139.64,-229.03C138.13,-216.87 136.36,-202.62 135,-191.67\"/>\n</g>\n<!-- (&#39;fields&#39;, &#39;glucose&#39;, 0, 0) -->\n<g id=\"node5\" class=\"node\">\n<title>(&#39;fields&#39;, &#39;glucose&#39;, 0, 0)</title>\n<ellipse fill=\"none\" stroke=\"black\" stroke-width=\"2\" cx=\"99.8\" cy=\"-100\" rx=\"18\" ry=\"18\"/>\n<text text-anchor=\"start\" x=\"96.8\" y=\"-96.4\" font-family=\"Times,serif\" font-size=\"12.00\">0</text>\n</g>\n<!-- (&#39;fields&#39;, &#39;glucose&#39;, 0)&#45;&gt;(&#39;fields&#39;, &#39;glucose&#39;, 0, 0) -->\n<g id=\"edge3\" class=\"edge\">\n<title>(&#39;fields&#39;, &#39;glucose&#39;, 0)&#45;&gt;(&#39;fields&#39;, &#39;glucose&#39;, 0, 0)</title>\n<path fill=\"none\" stroke=\"black\" stroke-width=\"2\" d=\"M125.32,-155.89C119.91,-144.27 112.66,-128.65 107.26,-117.05\"/>\n</g>\n<!-- (&#39;dFBA&#39;,) -->\n<g id=\"node12\" class=\"node\">\n<title>(&#39;dFBA&#39;,)</title>\n<polygon fill=\"none\" stroke=\"black\" stroke-width=\"2\" points=\"268.8,-36 214.8,-36 214.8,0 268.8,0 268.8,-36\"/>\n<text text-anchor=\"start\" x=\"227.13\" y=\"-14.4\" font-family=\"Times,serif\" font-size=\"12.00\">dFBA</text>\n</g>\n<!-- (&#39;fields&#39;, &#39;glucose&#39;, 0, 0)&#45;&gt;(&#39;dFBA&#39;,) -->\n<g id=\"edge10\" class=\"edge\">\n<title>(&#39;fields&#39;, &#39;glucose&#39;, 0, 0)&#45;&gt;(&#39;dFBA&#39;,)</title>\n<path fill=\"none\" stroke=\"black\" stroke-dasharray=\"5,2\" d=\"M81.24,-97C47.6,-92.67 -17.93,-80.61 5.04,-54 30.11,-24.95 142.24,-19.6 202.76,-18.87\"/>\n<polygon fill=\"black\" stroke=\"black\" points=\"202.65,-22.37 212.62,-18.79 202.59,-15.37 202.65,-22.37\"/>\n<text text-anchor=\"start\" x=\"5.8\" y=\"-56\" font-family=\"Times,serif\" font-size=\"10.00\">substrates/glucose</text>\n</g>\n<!-- (&#39;fields&#39;, &#39;glucose&#39;, 0, 0)&#45;&gt;(&#39;dFBA&#39;,) -->\n<g id=\"edge15\" class=\"edge\">\n<title>(&#39;fields&#39;, &#39;glucose&#39;, 0, 0)&#45;&gt;(&#39;dFBA&#39;,)</title>\n<path fill=\"none\" stroke=\"black\" stroke-dasharray=\"5,2\" d=\"M106.62,-70.99C109.29,-64.69 112.97,-58.54 118.04,-54 144.65,-30.16 186.34,-22.45 213.87,-20.02\"/>\n<polygon fill=\"black\" stroke=\"black\" points=\"103.45,-69.43 103.51,-80.03 110.07,-71.71 103.45,-69.43\"/>\n<text text-anchor=\"start\" x=\"118.8\" y=\"-56\" font-family=\"Times,serif\" font-size=\"10.00\">substrates/glucose</text>\n</g>\n<!-- (&#39;fields&#39;, &#39;acetate&#39;, 0) -->\n<g id=\"node7\" class=\"node\">\n<title>(&#39;fields&#39;, &#39;acetate&#39;, 0)</title>\n<ellipse fill=\"none\" stroke=\"black\" stroke-width=\"2\" cx=\"210.8\" cy=\"-173\" rx=\"18\" ry=\"18\"/>\n<text text-anchor=\"start\" x=\"207.8\" y=\"-169.4\" font-family=\"Times,serif\" font-size=\"12.00\">0</text>\n</g>\n<!-- (&#39;fields&#39;, &#39;acetate&#39;)&#45;&gt;(&#39;fields&#39;, &#39;acetate&#39;, 0) -->\n<g id=\"edge5\" class=\"edge\">\n<title>(&#39;fields&#39;, &#39;acetate&#39;)&#45;&gt;(&#39;fields&#39;, &#39;acetate&#39;, 0)</title>\n<path fill=\"none\" stroke=\"black\" stroke-width=\"2\" d=\"M210.8,-230.79C210.8,-218.36 210.8,-203.38 210.8,-191.93\"/>\n</g>\n<!-- (&#39;fields&#39;, &#39;acetate&#39;, 0, 0) -->\n<g id=\"node8\" class=\"node\">\n<title>(&#39;fields&#39;, &#39;acetate&#39;, 0, 0)</title>\n<ellipse fill=\"none\" stroke=\"black\" stroke-width=\"2\" cx=\"210.8\" cy=\"-100\" rx=\"18\" ry=\"18\"/>\n<text text-anchor=\"start\" x=\"207.8\" y=\"-96.4\" font-family=\"Times,serif\" font-size=\"12.00\">0</text>\n</g>\n<!-- (&#39;fields&#39;, &#39;acetate&#39;, 0)&#45;&gt;(&#39;fields&#39;, &#39;acetate&#39;, 0, 0) -->\n<g id=\"edge6\" class=\"edge\">\n<title>(&#39;fields&#39;, &#39;acetate&#39;, 0)&#45;&gt;(&#39;fields&#39;, &#39;acetate&#39;, 0, 0)</title>\n<path fill=\"none\" stroke=\"black\" stroke-width=\"2\" d=\"M210.8,-154.08C210.8,-143.24 210.8,-129.46 210.8,-118.66\"/>\n</g>\n<!-- (&#39;fields&#39;, &#39;acetate&#39;, 0, 0)&#45;&gt;(&#39;dFBA&#39;,) -->\n<g id=\"edge11\" class=\"edge\">\n<title>(&#39;fields&#39;, &#39;acetate&#39;, 0, 0)&#45;&gt;(&#39;dFBA&#39;,)</title>\n<path fill=\"none\" stroke=\"black\" stroke-dasharray=\"5,2\" d=\"M200.81,-84.38C195.96,-75.36 192.1,-63.7 196.84,-54 199.05,-49.48 202.16,-45.37 205.72,-41.69\"/>\n<polygon fill=\"black\" stroke=\"black\" points=\"207.74,-44.57 212.93,-35.33 203.11,-39.32 207.74,-44.57\"/>\n<text text-anchor=\"start\" x=\"197.8\" y=\"-56\" font-family=\"Times,serif\" font-size=\"10.00\">substrates/acetate</text>\n</g>\n<!-- (&#39;fields&#39;, &#39;acetate&#39;, 0, 0)&#45;&gt;(&#39;dFBA&#39;,) -->\n<g id=\"edge16\" class=\"edge\">\n<title>(&#39;fields&#39;, &#39;acetate&#39;, 0, 0)&#45;&gt;(&#39;dFBA&#39;,)</title>\n<path fill=\"none\" stroke=\"black\" stroke-dasharray=\"5,2\" d=\"M238.85,-88.52C249.59,-82.97 260.72,-74.98 266.8,-64 271.74,-55.09 267.33,-45.19 260.91,-36.95\"/>\n<polygon fill=\"black\" stroke=\"black\" points=\"237.46,-85.31 229.82,-92.65 240.37,-91.68 237.46,-85.31\"/>\n<text text-anchor=\"start\" x=\"268.8\" y=\"-56\" font-family=\"Times,serif\" font-size=\"10.00\">substrates/acetate</text>\n</g>\n<!-- (&#39;fields&#39;, &#39;biomass&#39;, 0) -->\n<g id=\"node10\" class=\"node\">\n<title>(&#39;fields&#39;, &#39;biomass&#39;, 0)</title>\n<ellipse fill=\"none\" stroke=\"black\" stroke-width=\"2\" cx=\"316.8\" cy=\"-173\" rx=\"18\" ry=\"18\"/>\n<text text-anchor=\"start\" x=\"313.8\" y=\"-169.4\" font-family=\"Times,serif\" font-size=\"12.00\">0</text>\n</g>\n<!-- (&#39;fields&#39;, &#39;biomass&#39;)&#45;&gt;(&#39;fields&#39;, &#39;biomass&#39;, 0) -->\n<g id=\"edge8\" class=\"edge\">\n<title>(&#39;fields&#39;, &#39;biomass&#39;)&#45;&gt;(&#39;fields&#39;, &#39;biomass&#39;, 0)</title>\n<path fill=\"none\" stroke=\"black\" stroke-width=\"2\" d=\"M311.51,-227.25C312.67,-215.57 314,-202.26 315.03,-191.87\"/>\n</g>\n<!-- (&#39;fields&#39;, &#39;biomass&#39;, 0, 0) -->\n<g id=\"node11\" class=\"node\">\n<title>(&#39;fields&#39;, &#39;biomass&#39;, 0, 0)</title>\n<ellipse fill=\"none\" stroke=\"black\" stroke-width=\"2\" cx=\"381.8\" cy=\"-100\" rx=\"18\" ry=\"18\"/>\n<text text-anchor=\"start\" x=\"378.8\" y=\"-96.4\" font-family=\"Times,serif\" font-size=\"12.00\">0</text>\n</g>\n<!-- (&#39;fields&#39;, &#39;biomass&#39;, 0)&#45;&gt;(&#39;fields&#39;, &#39;biomass&#39;, 0, 0) -->\n<g id=\"edge9\" class=\"edge\">\n<title>(&#39;fields&#39;, &#39;biomass&#39;, 0)&#45;&gt;(&#39;fields&#39;, &#39;biomass&#39;, 0, 0)</title>\n<path fill=\"none\" stroke=\"black\" stroke-width=\"2\" d=\"M329.03,-158.65C340.65,-145.95 358.03,-126.97 369.63,-114.29\"/>\n</g>\n<!-- (&#39;fields&#39;, &#39;biomass&#39;, 0, 0)&#45;&gt;(&#39;dFBA&#39;,) -->\n<g id=\"edge12\" class=\"edge\">\n<title>(&#39;fields&#39;, &#39;biomass&#39;, 0, 0)&#45;&gt;(&#39;dFBA&#39;,)</title>\n<path fill=\"none\" stroke=\"black\" stroke-dasharray=\"5,2\" d=\"M372.11,-84.23C365.03,-74.45 354.62,-62 342.8,-54 324.18,-41.39 300.55,-32.87 280.83,-27.4\"/>\n<polygon fill=\"black\" stroke=\"black\" points=\"281.76,-24.03 271.2,-24.91 280,-30.8 281.76,-24.03\"/>\n<text text-anchor=\"start\" x=\"353.8\" y=\"-56\" font-family=\"Times,serif\" font-size=\"10.00\">substrates/biomass</text>\n</g>\n<!-- (&#39;fields&#39;, &#39;biomass&#39;, 0, 0)&#45;&gt;(&#39;dFBA&#39;,) -->\n<g id=\"edge17\" class=\"edge\">\n<title>(&#39;fields&#39;, &#39;biomass&#39;, 0, 0)&#45;&gt;(&#39;dFBA&#39;,)</title>\n<path fill=\"none\" stroke=\"black\" stroke-dasharray=\"5,2\" d=\"M409.66,-87.77C426.77,-79.25 443.51,-66.85 432.8,-54 412.35,-29.46 317.52,-22.07 269.63,-19.89\"/>\n<polygon fill=\"black\" stroke=\"black\" points=\"408.23,-84.58 400.59,-91.91 411.14,-90.94 408.23,-84.58\"/>\n<text text-anchor=\"start\" x=\"435.8\" y=\"-56\" font-family=\"Times,serif\" font-size=\"10.00\">substrates/biomass</text>\n</g>\n</g>\n</svg>\n",
      "text/plain": [
       "<graphviz.graphs.Digraph at 0x1683f5e50>"
      ]
     },
     "execution_count": 42,
     "metadata": {},
     "output_type": "execute_result"
    }
   ],
   "execution_count": 42
  },
  {
   "metadata": {
    "ExecuteTime": {
     "end_time": "2025-04-07T14:22:45.529796Z",
     "start_time": "2025-04-07T14:22:45.520872Z"
    }
   },
   "cell_type": "code",
   "source": [
    "v.set_value(path = ['fields', 'glucose', 0, 0], value=10)\n",
    "v.set_value(path = ['fields', 'biomass', 0, 0], value=0.1)\n",
    "field = v.get_value(['fields'])\n",
    "print(field)"
   ],
   "id": "6d6a1b3508f477e0",
   "outputs": [
    {
     "name": "stdout",
     "output_type": "stream",
     "text": [
      "{'glucose': {0: {0: 10}}, 'acetate': {0: {0: 0.0}}, 'biomass': {0: {0: 0.1}}}\n"
     ]
    }
   ],
   "execution_count": 43
  },
  {
   "metadata": {
    "ExecuteTime": {
     "end_time": "2025-04-07T14:22:45.583056Z",
     "start_time": "2025-04-07T14:22:45.534323Z"
    }
   },
   "cell_type": "code",
   "source": [
    "# run the simulation for 10 time units\n",
    "v.run(interval=60)"
   ],
   "id": "9a7c8befcc1c0139",
   "outputs": [],
   "execution_count": 44
  },
  {
   "metadata": {
    "ExecuteTime": {
     "end_time": "2025-04-07T14:22:45.638878Z",
     "start_time": "2025-04-07T14:22:45.587742Z"
    }
   },
   "cell_type": "code",
   "source": [
    "v.plot_timeseries(\n",
    "    subplot_size=(8, 3),\n",
    "    combined_vars=[\n",
    "        [\n",
    "            '/fields/glucose/0/0',\n",
    "            '/fields/acetate/0/0',\n",
    "            '/fields/biomass/0/0'\n",
    "        ]\n",
    "    ]\n",
    ")"
   ],
   "id": "cc668cc073e83bf3",
   "outputs": [
    {
     "data": {
      "text/plain": [
       "<Figure size 800x300 with 1 Axes>"
      ],
      "image/png": "[encoded data removed]"
     },
     "execution_count": 45,
     "metadata": {},
     "output_type": "execute_result"
    }
   ],
   "execution_count": 45
  },
  {
   "metadata": {},
   "cell_type": "markdown",
   "source": "## Spatial Dynamic FBA",
   "id": "76cd24ec882941b2"
  },
  {
   "metadata": {
    "ExecuteTime": {
     "end_time": "2025-04-07T14:26:28.244390Z",
     "start_time": "2025-04-07T14:26:28.199493Z"
    }
   },
   "cell_type": "code",
   "source": [
    "mol_ids = [\"glucose\", \"acetate\", \"biomass\"]\n",
    "path=[\"fields\"]\n",
    "rows = 2\n",
    "columns = 2\n",
    "\n",
    "# make the vivarium\n",
    "v2 = Vivarium(processes=PROCESS_DICT, types=TYPES_DICT)\n",
    "for mol_id in mol_ids:\n",
    "    v2.add_object(\n",
    "        name=mol_id,\n",
    "        path=path,\n",
    "        type='array',\n",
    "        value=np.random.rand(rows, columns)\n",
    "    )\n",
    "\n",
    "# add a dynamic FBA process at every location\n",
    "for i in range(rows):\n",
    "    for j in range(columns):\n",
    "        dfba_name = f\"dFBA[{i},{j}]\"\n",
    "\n",
    "        # add a process for this location\n",
    "        v2.add_process(\n",
    "            name=dfba_name,\n",
    "            process_id=\"DynamicFBA\",\n",
    "            config=dfba_config,\n",
    "        )\n",
    "        v2.connect_process(\n",
    "            process_name=dfba_name,\n",
    "            inputs={\n",
    "                    \"substrates\": {\n",
    "                        mol_id: build_path(mol_id, path, i, j)\n",
    "                        for mol_id in mol_ids}\n",
    "                },\n",
    "            outputs={\n",
    "                    \"substrates\": {\n",
    "                        mol_id: build_path(mol_id, path, i, j)\n",
    "                        for mol_id in mol_ids}\n",
    "                }\n",
    "        )\n",
    "\n",
    "v2.diagram(dpi='70')"
   ],
   "id": "8de7c459d363838",
   "outputs": [
    {
     "ename": "ValueError",
     "evalue": "The truth value of an array with more than one element is ambiguous. Use a.any() or a.all()",
     "output_type": "error",
     "traceback": [
      "\u001B[0;31m---------------------------------------------------------------------------\u001B[0m",
      "\u001B[0;31mValueError\u001B[0m                                Traceback (most recent call last)",
      "Cell \u001B[0;32mIn[50], line 9\u001B[0m\n\u001B[1;32m      7\u001B[0m v2 \u001B[38;5;241m=\u001B[39m Vivarium(processes\u001B[38;5;241m=\u001B[39mPROCESS_DICT, types\u001B[38;5;241m=\u001B[39mTYPES_DICT)\n\u001B[1;32m      8\u001B[0m \u001B[38;5;28;01mfor\u001B[39;00m mol_id \u001B[38;5;129;01min\u001B[39;00m mol_ids:\n\u001B[0;32m----> 9\u001B[0m     \u001B[43mv2\u001B[49m\u001B[38;5;241;43m.\u001B[39;49m\u001B[43madd_object\u001B[49m\u001B[43m(\u001B[49m\n\u001B[1;32m     10\u001B[0m \u001B[43m        \u001B[49m\u001B[43mname\u001B[49m\u001B[38;5;241;43m=\u001B[39;49m\u001B[43mmol_id\u001B[49m\u001B[43m,\u001B[49m\n\u001B[1;32m     11\u001B[0m \u001B[43m        \u001B[49m\u001B[43mpath\u001B[49m\u001B[38;5;241;43m=\u001B[39;49m\u001B[43mpath\u001B[49m\u001B[43m,\u001B[49m\n\u001B[1;32m     12\u001B[0m \u001B[43m        \u001B[49m\u001B[38;5;28;43mtype\u001B[39;49m\u001B[38;5;241;43m=\u001B[39;49m\u001B[38;5;124;43m'\u001B[39;49m\u001B[38;5;124;43marray\u001B[39;49m\u001B[38;5;124;43m'\u001B[39;49m\u001B[43m,\u001B[49m\n\u001B[1;32m     13\u001B[0m \u001B[43m        \u001B[49m\u001B[43mvalue\u001B[49m\u001B[38;5;241;43m=\u001B[39;49m\u001B[43mnp\u001B[49m\u001B[38;5;241;43m.\u001B[39;49m\u001B[43mrandom\u001B[49m\u001B[38;5;241;43m.\u001B[39;49m\u001B[43mrand\u001B[49m\u001B[43m(\u001B[49m\u001B[43mrows\u001B[49m\u001B[43m,\u001B[49m\u001B[43m \u001B[49m\u001B[43mcolumns\u001B[49m\u001B[43m)\u001B[49m\n\u001B[1;32m     14\u001B[0m \u001B[43m    \u001B[49m\u001B[43m)\u001B[49m\n\u001B[1;32m     16\u001B[0m \u001B[38;5;66;03m# add a dynamic FBA process at every location\u001B[39;00m\n\u001B[1;32m     17\u001B[0m \u001B[38;5;28;01mfor\u001B[39;00m i \u001B[38;5;129;01min\u001B[39;00m \u001B[38;5;28mrange\u001B[39m(rows):\n",
      "File \u001B[0;32m~/code/vivarium-interface/vivarium/vivarium.py:181\u001B[0m, in \u001B[0;36mVivarium.add_object\u001B[0;34m(self, name, type, path, value)\u001B[0m\n\u001B[1;32m    173\u001B[0m state \u001B[38;5;241m=\u001B[39m {\n\u001B[1;32m    174\u001B[0m     name: {\n\u001B[1;32m    175\u001B[0m         \u001B[38;5;124m\"\u001B[39m\u001B[38;5;124m_type\u001B[39m\u001B[38;5;124m\"\u001B[39m: \u001B[38;5;28mtype\u001B[39m \u001B[38;5;129;01mor\u001B[39;00m \u001B[38;5;124m'\u001B[39m\u001B[38;5;124many\u001B[39m\u001B[38;5;124m'\u001B[39m,\n\u001B[1;32m    176\u001B[0m         \u001B[38;5;124m\"\u001B[39m\u001B[38;5;124m_value\u001B[39m\u001B[38;5;124m\"\u001B[39m: value\n\u001B[1;32m    177\u001B[0m     }\n\u001B[1;32m    178\u001B[0m }\n\u001B[1;32m    180\u001B[0m \u001B[38;5;66;03m# nest the process in the composite at the given path\u001B[39;00m\n\u001B[0;32m--> 181\u001B[0m \u001B[38;5;28;43mself\u001B[39;49m\u001B[38;5;241;43m.\u001B[39;49m\u001B[43mcomposite\u001B[49m\u001B[38;5;241;43m.\u001B[39;49m\u001B[43mmerge\u001B[49m\u001B[43m(\u001B[49m\u001B[43m{\u001B[49m\u001B[43m}\u001B[49m\u001B[43m,\u001B[49m\u001B[43m \u001B[49m\u001B[43mstate\u001B[49m\u001B[43m,\u001B[49m\u001B[43m \u001B[49m\u001B[43mpath\u001B[49m\u001B[43m)\u001B[49m\n\u001B[1;32m    182\u001B[0m \u001B[38;5;28mself\u001B[39m\u001B[38;5;241m.\u001B[39mcomposite\u001B[38;5;241m.\u001B[39mbuild_step_network()\n",
      "File \u001B[0;32m~/code/process-bigraph/process_bigraph/composite.py:578\u001B[0m, in \u001B[0;36mComposite.merge\u001B[0;34m(self, schema, state, path)\u001B[0m\n\u001B[1;32m    576\u001B[0m \u001B[38;5;28;01mdef\u001B[39;00m \u001B[38;5;21mmerge\u001B[39m(\u001B[38;5;28mself\u001B[39m, schema, state, path\u001B[38;5;241m=\u001B[39m\u001B[38;5;28;01mNone\u001B[39;00m):\n\u001B[1;32m    577\u001B[0m     path \u001B[38;5;241m=\u001B[39m path \u001B[38;5;129;01mor\u001B[39;00m []\n\u001B[0;32m--> 578\u001B[0m     \u001B[38;5;28mself\u001B[39m\u001B[38;5;241m.\u001B[39mcomposition, \u001B[38;5;28mself\u001B[39m\u001B[38;5;241m.\u001B[39mstate \u001B[38;5;241m=\u001B[39m \u001B[38;5;28;43mself\u001B[39;49m\u001B[38;5;241;43m.\u001B[39;49m\u001B[43mcore\u001B[49m\u001B[38;5;241;43m.\u001B[39;49m\u001B[43mmerge\u001B[49m\u001B[43m(\u001B[49m\n\u001B[1;32m    579\u001B[0m \u001B[43m        \u001B[49m\u001B[38;5;28;43mself\u001B[39;49m\u001B[38;5;241;43m.\u001B[39;49m\u001B[43mcomposition\u001B[49m\u001B[43m,\u001B[49m\n\u001B[1;32m    580\u001B[0m \u001B[43m        \u001B[49m\u001B[38;5;28;43mself\u001B[39;49m\u001B[38;5;241;43m.\u001B[39;49m\u001B[43mstate\u001B[49m\u001B[43m,\u001B[49m\n\u001B[1;32m    581\u001B[0m \u001B[43m        \u001B[49m\u001B[43mpath\u001B[49m\u001B[43m,\u001B[49m\n\u001B[1;32m    582\u001B[0m \u001B[43m        \u001B[49m\u001B[43mschema\u001B[49m\u001B[43m,\u001B[49m\n\u001B[1;32m    583\u001B[0m \u001B[43m        \u001B[49m\u001B[43mstate\u001B[49m\u001B[43m)\u001B[49m\n",
      "File \u001B[0;32m~/code/bigraph-schema/bigraph_schema/type_system.py:1289\u001B[0m, in \u001B[0;36mTypeSystem.merge\u001B[0;34m(self, schema, state, path, update_schema, update_state, defer)\u001B[0m\n\u001B[1;32m   1280\u001B[0m \u001B[38;5;28;01mdef\u001B[39;00m \u001B[38;5;21mmerge\u001B[39m(\u001B[38;5;28mself\u001B[39m, schema, state, path, update_schema, update_state, defer\u001B[38;5;241m=\u001B[39m\u001B[38;5;28;01mFalse\u001B[39;00m):\n\u001B[1;32m   1281\u001B[0m     top_schema, top_state \u001B[38;5;241m=\u001B[39m \u001B[38;5;28mself\u001B[39m\u001B[38;5;241m.\u001B[39mset_slice(\n\u001B[1;32m   1282\u001B[0m         schema,\n\u001B[1;32m   1283\u001B[0m         state,\n\u001B[0;32m   (...)\u001B[0m\n\u001B[1;32m   1286\u001B[0m         update_state,\n\u001B[1;32m   1287\u001B[0m         defer)\n\u001B[0;32m-> 1289\u001B[0m     \u001B[38;5;28;01mreturn\u001B[39;00m \u001B[38;5;28;43mself\u001B[39;49m\u001B[38;5;241;43m.\u001B[39;49m\u001B[43mgenerate\u001B[49m\u001B[43m(\u001B[49m\u001B[43mtop_schema\u001B[49m\u001B[43m,\u001B[49m\u001B[43m \u001B[49m\u001B[43mtop_state\u001B[49m\u001B[43m)\u001B[49m\n",
      "File \u001B[0;32m~/code/bigraph-schema/bigraph_schema/type_system.py:2070\u001B[0m, in \u001B[0;36mTypeSystem.generate\u001B[0;34m(self, schema, state)\u001B[0m\n\u001B[1;32m   2069\u001B[0m \u001B[38;5;28;01mdef\u001B[39;00m \u001B[38;5;21mgenerate\u001B[39m(\u001B[38;5;28mself\u001B[39m, schema, state):\n\u001B[0;32m-> 2070\u001B[0m     merged_schema, merged_state \u001B[38;5;241m=\u001B[39m \u001B[38;5;28;43mself\u001B[39;49m\u001B[38;5;241;43m.\u001B[39;49m\u001B[43msort\u001B[49m\u001B[43m(\u001B[49m\n\u001B[1;32m   2071\u001B[0m \u001B[43m        \u001B[49m\u001B[43mschema\u001B[49m\u001B[43m,\u001B[49m\n\u001B[1;32m   2072\u001B[0m \u001B[43m        \u001B[49m\u001B[43mstate\u001B[49m\u001B[43m)\u001B[49m\n\u001B[1;32m   2074\u001B[0m     _, _, top_schema, top_state \u001B[38;5;241m=\u001B[39m \u001B[38;5;28mself\u001B[39m\u001B[38;5;241m.\u001B[39mgenerate_recur(\n\u001B[1;32m   2075\u001B[0m         merged_schema,\n\u001B[1;32m   2076\u001B[0m         merged_state)\n\u001B[1;32m   2078\u001B[0m     \u001B[38;5;28;01mreturn\u001B[39;00m top_schema, top_state\n",
      "File \u001B[0;32m~/code/bigraph-schema/bigraph_schema/type_system.py:311\u001B[0m, in \u001B[0;36mTypeSystem.sort\u001B[0;34m(self, schema, state)\u001B[0m\n\u001B[1;32m    304\u001B[0m schema \u001B[38;5;241m=\u001B[39m \u001B[38;5;28mself\u001B[39m\u001B[38;5;241m.\u001B[39maccess(schema)\n\u001B[1;32m    306\u001B[0m sort_function \u001B[38;5;241m=\u001B[39m \u001B[38;5;28mself\u001B[39m\u001B[38;5;241m.\u001B[39mchoose_method(\n\u001B[1;32m    307\u001B[0m     schema,\n\u001B[1;32m    308\u001B[0m     state,\n\u001B[1;32m    309\u001B[0m     \u001B[38;5;124m'\u001B[39m\u001B[38;5;124msort\u001B[39m\u001B[38;5;124m'\u001B[39m)\n\u001B[0;32m--> 311\u001B[0m \u001B[38;5;28;01mreturn\u001B[39;00m \u001B[43msort_function\u001B[49m\u001B[43m(\u001B[49m\n\u001B[1;32m    312\u001B[0m \u001B[43m    \u001B[49m\u001B[38;5;28;43mself\u001B[39;49m\u001B[43m,\u001B[49m\n\u001B[1;32m    313\u001B[0m \u001B[43m    \u001B[49m\u001B[43mschema\u001B[49m\u001B[43m,\u001B[49m\n\u001B[1;32m    314\u001B[0m \u001B[43m    \u001B[49m\u001B[43mstate\u001B[49m\u001B[43m)\u001B[49m\n",
      "File \u001B[0;32m~/code/bigraph-schema/bigraph_schema/type_functions.py:2164\u001B[0m, in \u001B[0;36msort_any\u001B[0;34m(core, schema, state)\u001B[0m\n\u001B[1;32m   2162\u001B[0m         merged_schema[key] \u001B[38;5;241m=\u001B[39m schema[key]\n\u001B[1;32m   2163\u001B[0m \u001B[38;5;28;01melse\u001B[39;00m:\n\u001B[0;32m-> 2164\u001B[0m     subschema, merged_state[key] \u001B[38;5;241m=\u001B[39m \u001B[43mcore\u001B[49m\u001B[38;5;241;43m.\u001B[39;49m\u001B[43msort\u001B[49m\u001B[43m(\u001B[49m\n\u001B[1;32m   2165\u001B[0m \u001B[43m        \u001B[49m\u001B[43mschema\u001B[49m\u001B[38;5;241;43m.\u001B[39;49m\u001B[43mget\u001B[49m\u001B[43m(\u001B[49m\u001B[43mkey\u001B[49m\u001B[43m,\u001B[49m\u001B[43m \u001B[49m\u001B[43m{\u001B[49m\u001B[43m}\u001B[49m\u001B[43m)\u001B[49m\u001B[43m,\u001B[49m\n\u001B[1;32m   2166\u001B[0m \u001B[43m        \u001B[49m\u001B[43mstate\u001B[49m\u001B[38;5;241;43m.\u001B[39;49m\u001B[43mget\u001B[49m\u001B[43m(\u001B[49m\u001B[43mkey\u001B[49m\u001B[43m,\u001B[49m\u001B[43m \u001B[49m\u001B[38;5;28;43;01mNone\u001B[39;49;00m\u001B[43m)\u001B[49m\u001B[43m)\u001B[49m\n\u001B[1;32m   2167\u001B[0m     \u001B[38;5;28;01mif\u001B[39;00m subschema:\n\u001B[1;32m   2168\u001B[0m         merged_schema[key] \u001B[38;5;241m=\u001B[39m subschema\n",
      "File \u001B[0;32m~/code/bigraph-schema/bigraph_schema/type_system.py:311\u001B[0m, in \u001B[0;36mTypeSystem.sort\u001B[0;34m(self, schema, state)\u001B[0m\n\u001B[1;32m    304\u001B[0m schema \u001B[38;5;241m=\u001B[39m \u001B[38;5;28mself\u001B[39m\u001B[38;5;241m.\u001B[39maccess(schema)\n\u001B[1;32m    306\u001B[0m sort_function \u001B[38;5;241m=\u001B[39m \u001B[38;5;28mself\u001B[39m\u001B[38;5;241m.\u001B[39mchoose_method(\n\u001B[1;32m    307\u001B[0m     schema,\n\u001B[1;32m    308\u001B[0m     state,\n\u001B[1;32m    309\u001B[0m     \u001B[38;5;124m'\u001B[39m\u001B[38;5;124msort\u001B[39m\u001B[38;5;124m'\u001B[39m)\n\u001B[0;32m--> 311\u001B[0m \u001B[38;5;28;01mreturn\u001B[39;00m \u001B[43msort_function\u001B[49m\u001B[43m(\u001B[49m\n\u001B[1;32m    312\u001B[0m \u001B[43m    \u001B[49m\u001B[38;5;28;43mself\u001B[39;49m\u001B[43m,\u001B[49m\n\u001B[1;32m    313\u001B[0m \u001B[43m    \u001B[49m\u001B[43mschema\u001B[49m\u001B[43m,\u001B[49m\n\u001B[1;32m    314\u001B[0m \u001B[43m    \u001B[49m\u001B[43mstate\u001B[49m\u001B[43m)\u001B[49m\n",
      "File \u001B[0;32m~/code/bigraph-schema/bigraph_schema/type_functions.py:2164\u001B[0m, in \u001B[0;36msort_any\u001B[0;34m(core, schema, state)\u001B[0m\n\u001B[1;32m   2162\u001B[0m         merged_schema[key] \u001B[38;5;241m=\u001B[39m schema[key]\n\u001B[1;32m   2163\u001B[0m \u001B[38;5;28;01melse\u001B[39;00m:\n\u001B[0;32m-> 2164\u001B[0m     subschema, merged_state[key] \u001B[38;5;241m=\u001B[39m \u001B[43mcore\u001B[49m\u001B[38;5;241;43m.\u001B[39;49m\u001B[43msort\u001B[49m\u001B[43m(\u001B[49m\n\u001B[1;32m   2165\u001B[0m \u001B[43m        \u001B[49m\u001B[43mschema\u001B[49m\u001B[38;5;241;43m.\u001B[39;49m\u001B[43mget\u001B[49m\u001B[43m(\u001B[49m\u001B[43mkey\u001B[49m\u001B[43m,\u001B[49m\u001B[43m \u001B[49m\u001B[43m{\u001B[49m\u001B[43m}\u001B[49m\u001B[43m)\u001B[49m\u001B[43m,\u001B[49m\n\u001B[1;32m   2166\u001B[0m \u001B[43m        \u001B[49m\u001B[43mstate\u001B[49m\u001B[38;5;241;43m.\u001B[39;49m\u001B[43mget\u001B[49m\u001B[43m(\u001B[49m\u001B[43mkey\u001B[49m\u001B[43m,\u001B[49m\u001B[43m \u001B[49m\u001B[38;5;28;43;01mNone\u001B[39;49;00m\u001B[43m)\u001B[49m\u001B[43m)\u001B[49m\n\u001B[1;32m   2167\u001B[0m     \u001B[38;5;28;01mif\u001B[39;00m subschema:\n\u001B[1;32m   2168\u001B[0m         merged_schema[key] \u001B[38;5;241m=\u001B[39m subschema\n",
      "File \u001B[0;32m~/code/bigraph-schema/bigraph_schema/type_system.py:311\u001B[0m, in \u001B[0;36mTypeSystem.sort\u001B[0;34m(self, schema, state)\u001B[0m\n\u001B[1;32m    304\u001B[0m schema \u001B[38;5;241m=\u001B[39m \u001B[38;5;28mself\u001B[39m\u001B[38;5;241m.\u001B[39maccess(schema)\n\u001B[1;32m    306\u001B[0m sort_function \u001B[38;5;241m=\u001B[39m \u001B[38;5;28mself\u001B[39m\u001B[38;5;241m.\u001B[39mchoose_method(\n\u001B[1;32m    307\u001B[0m     schema,\n\u001B[1;32m    308\u001B[0m     state,\n\u001B[1;32m    309\u001B[0m     \u001B[38;5;124m'\u001B[39m\u001B[38;5;124msort\u001B[39m\u001B[38;5;124m'\u001B[39m)\n\u001B[0;32m--> 311\u001B[0m \u001B[38;5;28;01mreturn\u001B[39;00m \u001B[43msort_function\u001B[49m\u001B[43m(\u001B[49m\n\u001B[1;32m    312\u001B[0m \u001B[43m    \u001B[49m\u001B[38;5;28;43mself\u001B[39;49m\u001B[43m,\u001B[49m\n\u001B[1;32m    313\u001B[0m \u001B[43m    \u001B[49m\u001B[43mschema\u001B[49m\u001B[43m,\u001B[49m\n\u001B[1;32m    314\u001B[0m \u001B[43m    \u001B[49m\u001B[43mstate\u001B[49m\u001B[43m)\u001B[49m\n",
      "File \u001B[0;32m~/code/bigraph-schema/bigraph_schema/type_functions.py:2158\u001B[0m, in \u001B[0;36msort_any\u001B[0;34m(core, schema, state)\u001B[0m\n\u001B[1;32m   2156\u001B[0m \u001B[38;5;28;01mif\u001B[39;00m is_schema_key(key):\n\u001B[1;32m   2157\u001B[0m     \u001B[38;5;28;01mif\u001B[39;00m key \u001B[38;5;129;01min\u001B[39;00m state:\n\u001B[0;32m-> 2158\u001B[0m         merged_schema[key] \u001B[38;5;241m=\u001B[39m \u001B[43mcore\u001B[49m\u001B[38;5;241;43m.\u001B[39;49m\u001B[43mmerge_schemas\u001B[49m\u001B[43m(\u001B[49m\n\u001B[1;32m   2159\u001B[0m \u001B[43m            \u001B[49m\u001B[43mschema\u001B[49m\u001B[38;5;241;43m.\u001B[39;49m\u001B[43mget\u001B[49m\u001B[43m(\u001B[49m\u001B[43mkey\u001B[49m\u001B[43m,\u001B[49m\u001B[43m \u001B[49m\u001B[43m{\u001B[49m\u001B[43m}\u001B[49m\u001B[43m)\u001B[49m\u001B[43m,\u001B[49m\n\u001B[1;32m   2160\u001B[0m \u001B[43m            \u001B[49m\u001B[43mstate\u001B[49m\u001B[43m[\u001B[49m\u001B[43mkey\u001B[49m\u001B[43m]\u001B[49m\u001B[43m)\u001B[49m\n\u001B[1;32m   2161\u001B[0m     \u001B[38;5;28;01melse\u001B[39;00m:\n\u001B[1;32m   2162\u001B[0m         merged_schema[key] \u001B[38;5;241m=\u001B[39m schema[key]\n",
      "File \u001B[0;32m~/code/bigraph-schema/bigraph_schema/type_system.py:275\u001B[0m, in \u001B[0;36mTypeSystem.merge_schemas\u001B[0;34m(self, current, update)\u001B[0m\n\u001B[1;32m    274\u001B[0m \u001B[38;5;28;01mdef\u001B[39;00m \u001B[38;5;21mmerge_schemas\u001B[39m(\u001B[38;5;28mself\u001B[39m, current, update):\n\u001B[0;32m--> 275\u001B[0m     \u001B[38;5;28;01mif\u001B[39;00m current \u001B[38;5;241m==\u001B[39m update:\n\u001B[1;32m    276\u001B[0m         \u001B[38;5;28;01mreturn\u001B[39;00m update\n\u001B[1;32m    277\u001B[0m     \u001B[38;5;28;01mif\u001B[39;00m \u001B[38;5;129;01mnot\u001B[39;00m \u001B[38;5;28misinstance\u001B[39m(current, \u001B[38;5;28mdict\u001B[39m):\n",
      "\u001B[0;31mValueError\u001B[0m: The truth value of an array with more than one element is ambiguous. Use a.any() or a.all()"
     ]
    }
   ],
   "execution_count": 50
  }
 ],
 "metadata": {
  "kernelspec": {
   "display_name": "Python 3",
   "language": "python",
   "name": "python3"
  },
  "language_info": {
   "codemirror_mode": {
    "name": "ipython",
    "version": 2
   },
   "file_extension": ".py",
   "mimetype": "text/x-python",
   "name": "python",
   "nbconvert_exporter": "python",
   "pygments_lexer": "ipython2",
   "version": "2.7.6"
  }
 },
 "nbformat": 4,
 "nbformat_minor": 5
}
