{
 "cells": [
  {
   "cell_type": "code",
   "id": "initial_id",
   "metadata": {
    "collapsed": true,
    "ExecuteTime": {
     "end_time": "2025-04-13T19:48:48.856211Z",
     "start_time": "2025-04-13T19:48:48.853806Z"
    }
   },
   "source": [
    "import numpy as np\n",
    "from vivarium import Vivarium\n",
    "from spatio_flux import PROCESS_DICT, TYPES_DICT, build_path"
   ],
   "outputs": [],
   "execution_count": 102
  },
  {
   "metadata": {
    "ExecuteTime": {
     "end_time": "2025-04-13T19:48:48.878434Z",
     "start_time": "2025-04-13T19:48:48.868074Z"
    }
   },
   "cell_type": "code",
   "source": [
    "# TODO -- make a spatio-flux specific Vivarium with the the core preloaded\n",
    "v = Vivarium(processes=PROCESS_DICT, types=TYPES_DICT)"
   ],
   "id": "66f96b03df1eb3b0",
   "outputs": [],
   "execution_count": 103
  },
  {
   "metadata": {
    "ExecuteTime": {
     "end_time": "2025-04-13T19:48:48.886162Z",
     "start_time": "2025-04-13T19:48:48.882548Z"
    }
   },
   "cell_type": "code",
   "source": "v.get_types()",
   "id": "6da148ba9e2bba1f",
   "outputs": [
    {
     "data": {
      "text/plain": [
       "                             Type\n",
       "0                                \n",
       "1                        reaction\n",
       "2    current*time^2/length^2*mass\n",
       "3                   printing_unit\n",
       "4                           array\n",
       "..                            ...\n",
       "97             length*temperature\n",
       "98                       length^2\n",
       "99            length^0_5*mass^0_5\n",
       "100               length^2/time^2\n",
       "101  length*mass/current^2*time^2\n",
       "\n",
       "[102 rows x 1 columns]"
      ],
      "text/html": [
       "<div>\n",
       "<style scoped>\n",
       "    .dataframe tbody tr th:only-of-type {\n",
       "        vertical-align: middle;\n",
       "    }\n",
       "\n",
       "    .dataframe tbody tr th {\n",
       "        vertical-align: top;\n",
       "    }\n",
       "\n",
       "    .dataframe thead th {\n",
       "        text-align: right;\n",
       "    }\n",
       "</style>\n",
       "<table border=\"1\" class=\"dataframe\">\n",
       "  <thead>\n",
       "    <tr style=\"text-align: right;\">\n",
       "      <th></th>\n",
       "      <th>Type</th>\n",
       "    </tr>\n",
       "  </thead>\n",
       "  <tbody>\n",
       "    <tr>\n",
       "      <th>0</th>\n",
       "      <td></td>\n",
       "    </tr>\n",
       "    <tr>\n",
       "      <th>1</th>\n",
       "      <td>reaction</td>\n",
       "    </tr>\n",
       "    <tr>\n",
       "      <th>2</th>\n",
       "      <td>current*time^2/length^2*mass</td>\n",
       "    </tr>\n",
       "    <tr>\n",
       "      <th>3</th>\n",
       "      <td>printing_unit</td>\n",
       "    </tr>\n",
       "    <tr>\n",
       "      <th>4</th>\n",
       "      <td>array</td>\n",
       "    </tr>\n",
       "    <tr>\n",
       "      <th>...</th>\n",
       "      <td>...</td>\n",
       "    </tr>\n",
       "    <tr>\n",
       "      <th>97</th>\n",
       "      <td>length*temperature</td>\n",
       "    </tr>\n",
       "    <tr>\n",
       "      <th>98</th>\n",
       "      <td>length^2</td>\n",
       "    </tr>\n",
       "    <tr>\n",
       "      <th>99</th>\n",
       "      <td>length^0_5*mass^0_5</td>\n",
       "    </tr>\n",
       "    <tr>\n",
       "      <th>100</th>\n",
       "      <td>length^2/time^2</td>\n",
       "    </tr>\n",
       "    <tr>\n",
       "      <th>101</th>\n",
       "      <td>length*mass/current^2*time^2</td>\n",
       "    </tr>\n",
       "  </tbody>\n",
       "</table>\n",
       "<p>102 rows × 1 columns</p>\n",
       "</div>"
      ]
     },
     "execution_count": 104,
     "metadata": {},
     "output_type": "execute_result"
    }
   ],
   "execution_count": 104
  },
  {
   "metadata": {
    "ExecuteTime": {
     "end_time": "2025-04-13T19:48:48.911546Z",
     "start_time": "2025-04-13T19:48:48.908816Z"
    }
   },
   "cell_type": "code",
   "source": [
    "# view the available processes\n",
    "v.get_processes()"
   ],
   "id": "aaa56a31b99950ad",
   "outputs": [
    {
     "data": {
      "text/plain": [
       "              Process\n",
       "0           composite\n",
       "1  DiffusionAdvection\n",
       "2          DynamicFBA\n",
       "3           Particles\n",
       "4     console-emitter\n",
       "5        json-emitter\n",
       "6         ram-emitter\n",
       "7     MinimalParticle"
      ],
      "text/html": [
       "<div>\n",
       "<style scoped>\n",
       "    .dataframe tbody tr th:only-of-type {\n",
       "        vertical-align: middle;\n",
       "    }\n",
       "\n",
       "    .dataframe tbody tr th {\n",
       "        vertical-align: top;\n",
       "    }\n",
       "\n",
       "    .dataframe thead th {\n",
       "        text-align: right;\n",
       "    }\n",
       "</style>\n",
       "<table border=\"1\" class=\"dataframe\">\n",
       "  <thead>\n",
       "    <tr style=\"text-align: right;\">\n",
       "      <th></th>\n",
       "      <th>Process</th>\n",
       "    </tr>\n",
       "  </thead>\n",
       "  <tbody>\n",
       "    <tr>\n",
       "      <th>0</th>\n",
       "      <td>composite</td>\n",
       "    </tr>\n",
       "    <tr>\n",
       "      <th>1</th>\n",
       "      <td>DiffusionAdvection</td>\n",
       "    </tr>\n",
       "    <tr>\n",
       "      <th>2</th>\n",
       "      <td>DynamicFBA</td>\n",
       "    </tr>\n",
       "    <tr>\n",
       "      <th>3</th>\n",
       "      <td>Particles</td>\n",
       "    </tr>\n",
       "    <tr>\n",
       "      <th>4</th>\n",
       "      <td>console-emitter</td>\n",
       "    </tr>\n",
       "    <tr>\n",
       "      <th>5</th>\n",
       "      <td>json-emitter</td>\n",
       "    </tr>\n",
       "    <tr>\n",
       "      <th>6</th>\n",
       "      <td>ram-emitter</td>\n",
       "    </tr>\n",
       "    <tr>\n",
       "      <th>7</th>\n",
       "      <td>MinimalParticle</td>\n",
       "    </tr>\n",
       "  </tbody>\n",
       "</table>\n",
       "</div>"
      ]
     },
     "execution_count": 105,
     "metadata": {},
     "output_type": "execute_result"
    }
   ],
   "execution_count": 105
  },
  {
   "metadata": {},
   "cell_type": "markdown",
   "source": "## dFBA alone",
   "id": "9cb058a2cfce5404"
  },
  {
   "metadata": {
    "ExecuteTime": {
     "end_time": "2025-04-13T19:48:48.944532Z",
     "start_time": "2025-04-13T19:48:48.942614Z"
    }
   },
   "cell_type": "code",
   "source": [
    "# inspect the config schema for the 'increase' process\n",
    "v.process_schema('DynamicFBA')"
   ],
   "id": "3b09457fe1bd1693",
   "outputs": [
    {
     "data": {
      "text/plain": [
       "'(model_file:string|kinetic_params:map[tuple[float,float]]|substrate_update_reactions:map[string]|biomass_identifier:string|bounds:map[bounds])'"
      ]
     },
     "execution_count": 106,
     "metadata": {},
     "output_type": "execute_result"
    }
   ],
   "execution_count": 106
  },
  {
   "metadata": {
    "ExecuteTime": {
     "end_time": "2025-04-13T19:48:48.967596Z",
     "start_time": "2025-04-13T19:48:48.965864Z"
    }
   },
   "cell_type": "code",
   "source": [
    "# TODO - enable get_dataclass to work with the new process\n",
    "# dfba_config  = v.get_dataclass('DynamicFBA')\n",
    "dfba_config = {\n",
    "    \"model_file\": \"textbook\",\n",
    "    \"kinetic_params\": {\n",
    "        \"glucose\": (0.5, 1),\n",
    "        \"acetate\": (0.5, 2)},\n",
    "    \"substrate_update_reactions\": {\n",
    "        \"glucose\": \"EX_glc__D_e\",\n",
    "        \"acetate\": \"EX_ac_e\"},\n",
    "    \"biomass_identifier\": \"biomass\",\n",
    "    \"bounds\": {\n",
    "        \"EX_o2_e\": {\"lower\": -2, \"upper\": None},\n",
    "        \"ATPM\": {\"lower\": 1, \"upper\": 1}\n",
    "    }\n",
    "}"
   ],
   "id": "22e0d7390501d00f",
   "outputs": [],
   "execution_count": 107
  },
  {
   "metadata": {
    "ExecuteTime": {
     "end_time": "2025-04-13T19:48:49.048176Z",
     "start_time": "2025-04-13T19:48:48.984147Z"
    }
   },
   "cell_type": "code",
   "source": [
    "# add a dynamic FBA process called 'dFBA'\n",
    "v.add_process(name=\"dFBA\",\n",
    "              process_id=\"DynamicFBA\",\n",
    "              config=dfba_config,\n",
    "              )\n",
    "v.diagram(dpi='70')"
   ],
   "id": "25737cdd3ed3d5d2",
   "outputs": [
    {
     "data": {
      "image/svg+xml": "<?xml version=\"1.0\" encoding=\"UTF-8\" standalone=\"no\"?>\n<!DOCTYPE svg PUBLIC \"-//W3C//DTD SVG 1.1//EN\"\n \"http://www.w3.org/Graphics/SVG/1.1/DTD/svg11.dtd\">\n<!-- Generated by graphviz version 9.0.0 (0)\n -->\n<!-- Title: bigraph Pages: 1 -->\n<svg width=\"194pt\" height=\"162pt\"\n viewBox=\"0.00 0.00 199.58 166.28\" xmlns=\"http://www.w3.org/2000/svg\" xmlns:xlink=\"http://www.w3.org/1999/xlink\">\n<g id=\"graph0\" class=\"graph\" transform=\"scale(0.972222 0.972222) rotate(0) translate(4 162.28)\">\n<title>bigraph</title>\n<polygon fill=\"white\" stroke=\"none\" points=\"-4,4 -4,-162.28 195.58,-162.28 195.58,4 -4,4\"/>\n<!-- (&#39;global_time&#39;,) -->\n<g id=\"node1\" class=\"node\">\n<title>(&#39;global_time&#39;,)</title>\n<ellipse fill=\"none\" stroke=\"black\" stroke-width=\"2\" cx=\"38.14\" cy=\"-120.14\" rx=\"38.14\" ry=\"38.14\"/>\n<text text-anchor=\"start\" x=\"9.48\" y=\"-116.54\" font-family=\"Times,serif\" font-size=\"12.00\">global_time</text>\n</g>\n<!-- (&#39;dFBA&#39;,) -->\n<g id=\"node2\" class=\"node\">\n<title>(&#39;dFBA&#39;,)</title>\n<polygon fill=\"none\" stroke=\"black\" stroke-width=\"2\" points=\"166.14,-36 112.14,-36 112.14,0 166.14,0 166.14,-36\"/>\n<text text-anchor=\"start\" x=\"124.47\" y=\"-14.4\" font-family=\"Times,serif\" font-size=\"12.00\">dFBA</text>\n</g>\n<!-- (&#39;dFBA&#39;, &#39;s&#39;, &#39;u&#39;, &#39;b&#39;, &#39;s&#39;, &#39;t&#39;, &#39;r&#39;, &#39;a&#39;, &#39;t&#39;, &#39;e&#39;, &#39;s&#39;)_input -->\n<!-- (&#39;dFBA&#39;, &#39;s&#39;, &#39;u&#39;, &#39;b&#39;, &#39;s&#39;, &#39;t&#39;, &#39;r&#39;, &#39;a&#39;, &#39;t&#39;, &#39;e&#39;, &#39;s&#39;)_input&#45;&gt;(&#39;dFBA&#39;,) -->\n<g id=\"edge1\" class=\"edge\">\n<title>(&#39;dFBA&#39;, &#39;s&#39;, &#39;u&#39;, &#39;b&#39;, &#39;s&#39;, &#39;t&#39;, &#39;r&#39;, &#39;a&#39;, &#39;t&#39;, &#39;e&#39;, &#39;s&#39;)_input&#45;&gt;(&#39;dFBA&#39;,)</title>\n<path fill=\"none\" stroke=\"black\" stroke-dasharray=\"5,2\" d=\"M105.68,-106.17C103.71,-92.67 102.21,-71.13 108.7,-54 109.72,-51.3 111.06,-48.67 112.6,-46.14\"/>\n<polygon fill=\"black\" stroke=\"black\" points=\"115.33,-48.33 118.42,-38.19 109.68,-44.19 115.33,-48.33\"/>\n<text text-anchor=\"start\" x=\"108.14\" y=\"-56\" font-family=\"Times,serif\" font-size=\"10.00\">substrates</text>\n</g>\n<!-- (&#39;dFBA&#39;, &#39;s&#39;, &#39;u&#39;, &#39;b&#39;, &#39;s&#39;, &#39;t&#39;, &#39;r&#39;, &#39;a&#39;, &#39;t&#39;, &#39;e&#39;, &#39;s&#39;)_output -->\n<!-- (&#39;dFBA&#39;, &#39;s&#39;, &#39;u&#39;, &#39;b&#39;, &#39;s&#39;, &#39;t&#39;, &#39;r&#39;, &#39;a&#39;, &#39;t&#39;, &#39;e&#39;, &#39;s&#39;)_output&#45;&gt;(&#39;dFBA&#39;,) -->\n<g id=\"edge2\" class=\"edge\">\n<title>(&#39;dFBA&#39;, &#39;s&#39;, &#39;u&#39;, &#39;b&#39;, &#39;s&#39;, &#39;t&#39;, &#39;r&#39;, &#39;a&#39;, &#39;t&#39;, &#39;e&#39;, &#39;s&#39;)_output&#45;&gt;(&#39;dFBA&#39;,)</title>\n<path fill=\"none\" stroke=\"black\" stroke-dasharray=\"5,2\" d=\"M162.82,-95.49C157.27,-77.58 149.77,-53.34 144.71,-36.99\"/>\n<polygon fill=\"black\" stroke=\"black\" points=\"159.46,-96.49 165.76,-105.01 166.15,-94.42 159.46,-96.49\"/>\n<text text-anchor=\"start\" x=\"152.14\" y=\"-56\" font-family=\"Times,serif\" font-size=\"10.00\">substrates</text>\n</g>\n</g>\n</svg>\n",
      "text/plain": [
       "<graphviz.graphs.Digraph at 0x177435c50>"
      ]
     },
     "execution_count": 108,
     "metadata": {},
     "output_type": "execute_result"
    }
   ],
   "execution_count": 108
  },
  {
   "metadata": {
    "ExecuteTime": {
     "end_time": "2025-04-13T19:48:49.087650Z",
     "start_time": "2025-04-13T19:48:49.055346Z"
    }
   },
   "cell_type": "code",
   "source": [
    "mol_ids = [\"glucose\", \"acetate\", \"biomass\"]\n",
    "path=[\"fields\"]\n",
    "i = 0\n",
    "j = 0\n",
    "\n",
    "# for mol_id in mol_ids:\n",
    "#     v.add_object(\n",
    "#         name=mol_id,\n",
    "#         path=path,\n",
    "#         # type='array',\n",
    "#         value=np.random.rand()\n",
    "#     )\n",
    "\n",
    "v.connect_process(\n",
    "    process_name=\"dFBA\",\n",
    "    inputs={\n",
    "            \"substrates\": {\n",
    "                mol_id: build_path(mol_id, path, i, j)\n",
    "                for mol_id in mol_ids}\n",
    "        },\n",
    "    outputs={\n",
    "            \"substrates\": {\n",
    "                mol_id: build_path(mol_id, path, i, j)\n",
    "                for mol_id in mol_ids}\n",
    "        }\n",
    ")\n",
    "\n",
    "# add an emitter to save results\n",
    "v.add_emitter()\n",
    "\n",
    "# TODO -- show_values does not work\n",
    "v.diagram(dpi='70', show_values=True)"
   ],
   "id": "7229543edc8a0969",
   "outputs": [
    {
     "data": {
      "image/svg+xml": "<?xml version=\"1.0\" encoding=\"UTF-8\" standalone=\"no\"?>\n<!DOCTYPE svg PUBLIC \"-//W3C//DTD SVG 1.1//EN\"\n \"http://www.w3.org/Graphics/SVG/1.1/DTD/svg11.dtd\">\n<!-- Generated by graphviz version 9.0.0 (0)\n -->\n<!-- Title: bigraph Pages: 1 -->\n<svg width=\"504pt\" height=\"402pt\"\n viewBox=\"0.00 0.00 518.80 413.29\" xmlns=\"http://www.w3.org/2000/svg\" xmlns:xlink=\"http://www.w3.org/1999/xlink\">\n<g id=\"graph0\" class=\"graph\" transform=\"scale(0.972222 0.972222) rotate(0) translate(4 409.29)\">\n<title>bigraph</title>\n<polygon fill=\"white\" stroke=\"none\" points=\"-4,4 -4,-409.29 514.8,-409.29 514.8,4 -4,4\"/>\n<!-- (&#39;global_time&#39;,) -->\n<g id=\"node1\" class=\"node\">\n<title>(&#39;global_time&#39;,)</title>\n<ellipse fill=\"none\" stroke=\"black\" stroke-width=\"2\" cx=\"71.8\" cy=\"-367.15\" rx=\"38.14\" ry=\"38.14\"/>\n<text text-anchor=\"start\" x=\"43.14\" y=\"-363.55\" font-family=\"Times,serif\" font-size=\"12.00\">global_time</text>\n</g>\n<!-- (&#39;emitter&#39;,) -->\n<g id=\"node13\" class=\"node\">\n<title>(&#39;emitter&#39;,)</title>\n<polygon fill=\"none\" stroke=\"black\" stroke-width=\"2\" points=\"98.8,-273.51 44.8,-273.51 44.8,-237.51 98.8,-237.51 98.8,-273.51\"/>\n<text text-anchor=\"start\" x=\"54.81\" y=\"-251.91\" font-family=\"Times,serif\" font-size=\"12.00\">emitter</text>\n</g>\n<!-- (&#39;global_time&#39;,)&#45;&gt;(&#39;emitter&#39;,) -->\n<g id=\"edge14\" class=\"edge\">\n<title>(&#39;global_time&#39;,)&#45;&gt;(&#39;emitter&#39;,)</title>\n<path fill=\"none\" stroke=\"black\" stroke-dasharray=\"5,2\" d=\"M71.8,-328.11C71.8,-314.19 71.8,-298.67 71.8,-285.64\"/>\n<polygon fill=\"black\" stroke=\"black\" points=\"75.3,-286.02 71.8,-276.02 68.3,-286.02 75.3,-286.02\"/>\n<text text-anchor=\"start\" x=\"71.8\" y=\"-303.01\" font-family=\"Times,serif\" font-size=\"10.00\">global_time</text>\n</g>\n<!-- (&#39;fields&#39;,) -->\n<g id=\"node2\" class=\"node\">\n<title>(&#39;fields&#39;,)</title>\n<ellipse fill=\"none\" stroke=\"black\" stroke-width=\"2\" cx=\"196.8\" cy=\"-367.15\" rx=\"19.63\" ry=\"19.63\"/>\n<text text-anchor=\"start\" x=\"183.8\" y=\"-363.55\" font-family=\"Times,serif\" font-size=\"12.00\">fields</text>\n</g>\n<!-- (&#39;fields&#39;, &#39;glucose&#39;) -->\n<g id=\"node3\" class=\"node\">\n<title>(&#39;fields&#39;, &#39;glucose&#39;)</title>\n<ellipse fill=\"none\" stroke=\"black\" stroke-width=\"2\" cx=\"142.8\" cy=\"-255.51\" rx=\"25.92\" ry=\"25.92\"/>\n<text text-anchor=\"start\" x=\"124.48\" y=\"-251.91\" font-family=\"Times,serif\" font-size=\"12.00\">glucose</text>\n</g>\n<!-- (&#39;fields&#39;,)&#45;&gt;(&#39;fields&#39;, &#39;glucose&#39;) -->\n<g id=\"edge1\" class=\"edge\">\n<title>(&#39;fields&#39;,)&#45;&gt;(&#39;fields&#39;, &#39;glucose&#39;)</title>\n<path fill=\"none\" stroke=\"black\" stroke-width=\"2\" d=\"M190.08,-347.85C185.01,-334.6 177.61,-316.41 169.8,-301.01 165.96,-293.43 161.3,-285.42 156.94,-278.31\"/>\n</g>\n<!-- (&#39;fields&#39;, &#39;acetate&#39;) -->\n<g id=\"node6\" class=\"node\">\n<title>(&#39;fields&#39;, &#39;acetate&#39;)</title>\n<ellipse fill=\"none\" stroke=\"black\" stroke-width=\"2\" cx=\"210.8\" cy=\"-255.51\" rx=\"23.94\" ry=\"23.94\"/>\n<text text-anchor=\"start\" x=\"194.15\" y=\"-251.91\" font-family=\"Times,serif\" font-size=\"12.00\">acetate</text>\n</g>\n<!-- (&#39;fields&#39;,)&#45;&gt;(&#39;fields&#39;, &#39;acetate&#39;) -->\n<g id=\"edge4\" class=\"edge\">\n<title>(&#39;fields&#39;,)&#45;&gt;(&#39;fields&#39;, &#39;acetate&#39;)</title>\n<path fill=\"none\" stroke=\"black\" stroke-width=\"2\" d=\"M199.27,-346.8C201.64,-328.23 205.23,-300.15 207.77,-280.24\"/>\n</g>\n<!-- (&#39;fields&#39;, &#39;biomass&#39;) -->\n<g id=\"node9\" class=\"node\">\n<title>(&#39;fields&#39;, &#39;biomass&#39;)</title>\n<ellipse fill=\"none\" stroke=\"black\" stroke-width=\"2\" cx=\"308.8\" cy=\"-255.51\" rx=\"27.51\" ry=\"27.51\"/>\n<text text-anchor=\"start\" x=\"289.14\" y=\"-251.91\" font-family=\"Times,serif\" font-size=\"12.00\">biomass</text>\n</g>\n<!-- (&#39;fields&#39;,)&#45;&gt;(&#39;fields&#39;, &#39;biomass&#39;) -->\n<g id=\"edge7\" class=\"edge\">\n<title>(&#39;fields&#39;,)&#45;&gt;(&#39;fields&#39;, &#39;biomass&#39;)</title>\n<path fill=\"none\" stroke=\"black\" stroke-width=\"2\" d=\"M210.99,-352.26C230.77,-332.9 266.71,-297.71 289.09,-275.81\"/>\n</g>\n<!-- (&#39;fields&#39;,)&#45;&gt;(&#39;emitter&#39;,) -->\n<g id=\"edge13\" class=\"edge\">\n<title>(&#39;fields&#39;,)&#45;&gt;(&#39;emitter&#39;,)</title>\n<path fill=\"none\" stroke=\"black\" stroke-dasharray=\"5,2\" d=\"M182.06,-352.83C167.37,-339.61 144.14,-318.78 123.8,-301.01 116.54,-294.66 108.65,-287.86 101.26,-281.53\"/>\n<polygon fill=\"black\" stroke=\"black\" points=\"103.92,-279.2 94.04,-275.36 99.37,-284.52 103.92,-279.2\"/>\n<text text-anchor=\"start\" x=\"134.8\" y=\"-303.01\" font-family=\"Times,serif\" font-size=\"10.00\">fields</text>\n</g>\n<!-- (&#39;fields&#39;, &#39;glucose&#39;, 0) -->\n<g id=\"node4\" class=\"node\">\n<title>(&#39;fields&#39;, &#39;glucose&#39;, 0)</title>\n<ellipse fill=\"none\" stroke=\"black\" stroke-width=\"2\" cx=\"132.8\" cy=\"-173\" rx=\"18\" ry=\"18\"/>\n<text text-anchor=\"start\" x=\"129.8\" y=\"-169.4\" font-family=\"Times,serif\" font-size=\"12.00\">0</text>\n</g>\n<!-- (&#39;fields&#39;, &#39;glucose&#39;)&#45;&gt;(&#39;fields&#39;, &#39;glucose&#39;, 0) -->\n<g id=\"edge2\" class=\"edge\">\n<title>(&#39;fields&#39;, &#39;glucose&#39;)&#45;&gt;(&#39;fields&#39;, &#39;glucose&#39;, 0)</title>\n<path fill=\"none\" stroke=\"black\" stroke-width=\"2\" d=\"M139.64,-229.03C138.13,-216.87 136.36,-202.62 135,-191.67\"/>\n</g>\n<!-- (&#39;fields&#39;, &#39;glucose&#39;, 0, 0) -->\n<g id=\"node5\" class=\"node\">\n<title>(&#39;fields&#39;, &#39;glucose&#39;, 0, 0)</title>\n<ellipse fill=\"none\" stroke=\"black\" stroke-width=\"2\" cx=\"99.8\" cy=\"-100\" rx=\"18\" ry=\"18\"/>\n<text text-anchor=\"start\" x=\"96.8\" y=\"-96.4\" font-family=\"Times,serif\" font-size=\"12.00\">0</text>\n</g>\n<!-- (&#39;fields&#39;, &#39;glucose&#39;, 0)&#45;&gt;(&#39;fields&#39;, &#39;glucose&#39;, 0, 0) -->\n<g id=\"edge3\" class=\"edge\">\n<title>(&#39;fields&#39;, &#39;glucose&#39;, 0)&#45;&gt;(&#39;fields&#39;, &#39;glucose&#39;, 0, 0)</title>\n<path fill=\"none\" stroke=\"black\" stroke-width=\"2\" d=\"M125.32,-155.89C119.91,-144.27 112.66,-128.65 107.26,-117.05\"/>\n</g>\n<!-- (&#39;dFBA&#39;,) -->\n<g id=\"node12\" class=\"node\">\n<title>(&#39;dFBA&#39;,)</title>\n<polygon fill=\"none\" stroke=\"black\" stroke-width=\"2\" points=\"268.8,-36 214.8,-36 214.8,0 268.8,0 268.8,-36\"/>\n<text text-anchor=\"start\" x=\"227.13\" y=\"-14.4\" font-family=\"Times,serif\" font-size=\"12.00\">dFBA</text>\n</g>\n<!-- (&#39;fields&#39;, &#39;glucose&#39;, 0, 0)&#45;&gt;(&#39;dFBA&#39;,) -->\n<g id=\"edge10\" class=\"edge\">\n<title>(&#39;fields&#39;, &#39;glucose&#39;, 0, 0)&#45;&gt;(&#39;dFBA&#39;,)</title>\n<path fill=\"none\" stroke=\"black\" stroke-dasharray=\"5,2\" d=\"M81.24,-97C47.6,-92.67 -17.93,-80.61 5.04,-54 30.11,-24.95 142.24,-19.6 202.76,-18.87\"/>\n<polygon fill=\"black\" stroke=\"black\" points=\"202.65,-22.37 212.62,-18.79 202.59,-15.37 202.65,-22.37\"/>\n<text text-anchor=\"start\" x=\"5.8\" y=\"-56\" font-family=\"Times,serif\" font-size=\"10.00\">substrates/glucose</text>\n</g>\n<!-- (&#39;fields&#39;, &#39;glucose&#39;, 0, 0)&#45;&gt;(&#39;dFBA&#39;,) -->\n<g id=\"edge15\" class=\"edge\">\n<title>(&#39;fields&#39;, &#39;glucose&#39;, 0, 0)&#45;&gt;(&#39;dFBA&#39;,)</title>\n<path fill=\"none\" stroke=\"black\" stroke-dasharray=\"5,2\" d=\"M106.62,-70.99C109.29,-64.69 112.97,-58.54 118.04,-54 144.65,-30.16 186.34,-22.45 213.87,-20.02\"/>\n<polygon fill=\"black\" stroke=\"black\" points=\"103.45,-69.43 103.51,-80.03 110.07,-71.71 103.45,-69.43\"/>\n<text text-anchor=\"start\" x=\"118.8\" y=\"-56\" font-family=\"Times,serif\" font-size=\"10.00\">substrates/glucose</text>\n</g>\n<!-- (&#39;fields&#39;, &#39;acetate&#39;, 0) -->\n<g id=\"node7\" class=\"node\">\n<title>(&#39;fields&#39;, &#39;acetate&#39;, 0)</title>\n<ellipse fill=\"none\" stroke=\"black\" stroke-width=\"2\" cx=\"210.8\" cy=\"-173\" rx=\"18\" ry=\"18\"/>\n<text text-anchor=\"start\" x=\"207.8\" y=\"-169.4\" font-family=\"Times,serif\" font-size=\"12.00\">0</text>\n</g>\n<!-- (&#39;fields&#39;, &#39;acetate&#39;)&#45;&gt;(&#39;fields&#39;, &#39;acetate&#39;, 0) -->\n<g id=\"edge5\" class=\"edge\">\n<title>(&#39;fields&#39;, &#39;acetate&#39;)&#45;&gt;(&#39;fields&#39;, &#39;acetate&#39;, 0)</title>\n<path fill=\"none\" stroke=\"black\" stroke-width=\"2\" d=\"M210.8,-230.79C210.8,-218.36 210.8,-203.38 210.8,-191.93\"/>\n</g>\n<!-- (&#39;fields&#39;, &#39;acetate&#39;, 0, 0) -->\n<g id=\"node8\" class=\"node\">\n<title>(&#39;fields&#39;, &#39;acetate&#39;, 0, 0)</title>\n<ellipse fill=\"none\" stroke=\"black\" stroke-width=\"2\" cx=\"210.8\" cy=\"-100\" rx=\"18\" ry=\"18\"/>\n<text text-anchor=\"start\" x=\"207.8\" y=\"-96.4\" font-family=\"Times,serif\" font-size=\"12.00\">0</text>\n</g>\n<!-- (&#39;fields&#39;, &#39;acetate&#39;, 0)&#45;&gt;(&#39;fields&#39;, &#39;acetate&#39;, 0, 0) -->\n<g id=\"edge6\" class=\"edge\">\n<title>(&#39;fields&#39;, &#39;acetate&#39;, 0)&#45;&gt;(&#39;fields&#39;, &#39;acetate&#39;, 0, 0)</title>\n<path fill=\"none\" stroke=\"black\" stroke-width=\"2\" d=\"M210.8,-154.08C210.8,-143.24 210.8,-129.46 210.8,-118.66\"/>\n</g>\n<!-- (&#39;fields&#39;, &#39;acetate&#39;, 0, 0)&#45;&gt;(&#39;dFBA&#39;,) -->\n<g id=\"edge11\" class=\"edge\">\n<title>(&#39;fields&#39;, &#39;acetate&#39;, 0, 0)&#45;&gt;(&#39;dFBA&#39;,)</title>\n<path fill=\"none\" stroke=\"black\" stroke-dasharray=\"5,2\" d=\"M200.81,-84.38C195.96,-75.36 192.1,-63.7 196.84,-54 199.05,-49.48 202.16,-45.37 205.72,-41.69\"/>\n<polygon fill=\"black\" stroke=\"black\" points=\"207.74,-44.57 212.93,-35.33 203.11,-39.32 207.74,-44.57\"/>\n<text text-anchor=\"start\" x=\"197.8\" y=\"-56\" font-family=\"Times,serif\" font-size=\"10.00\">substrates/acetate</text>\n</g>\n<!-- (&#39;fields&#39;, &#39;acetate&#39;, 0, 0)&#45;&gt;(&#39;dFBA&#39;,) -->\n<g id=\"edge16\" class=\"edge\">\n<title>(&#39;fields&#39;, &#39;acetate&#39;, 0, 0)&#45;&gt;(&#39;dFBA&#39;,)</title>\n<path fill=\"none\" stroke=\"black\" stroke-dasharray=\"5,2\" d=\"M238.85,-88.52C249.59,-82.97 260.72,-74.98 266.8,-64 271.74,-55.09 267.33,-45.19 260.91,-36.95\"/>\n<polygon fill=\"black\" stroke=\"black\" points=\"237.46,-85.31 229.82,-92.65 240.37,-91.68 237.46,-85.31\"/>\n<text text-anchor=\"start\" x=\"268.8\" y=\"-56\" font-family=\"Times,serif\" font-size=\"10.00\">substrates/acetate</text>\n</g>\n<!-- (&#39;fields&#39;, &#39;biomass&#39;, 0) -->\n<g id=\"node10\" class=\"node\">\n<title>(&#39;fields&#39;, &#39;biomass&#39;, 0)</title>\n<ellipse fill=\"none\" stroke=\"black\" stroke-width=\"2\" cx=\"316.8\" cy=\"-173\" rx=\"18\" ry=\"18\"/>\n<text text-anchor=\"start\" x=\"313.8\" y=\"-169.4\" font-family=\"Times,serif\" font-size=\"12.00\">0</text>\n</g>\n<!-- (&#39;fields&#39;, &#39;biomass&#39;)&#45;&gt;(&#39;fields&#39;, &#39;biomass&#39;, 0) -->\n<g id=\"edge8\" class=\"edge\">\n<title>(&#39;fields&#39;, &#39;biomass&#39;)&#45;&gt;(&#39;fields&#39;, &#39;biomass&#39;, 0)</title>\n<path fill=\"none\" stroke=\"black\" stroke-width=\"2\" d=\"M311.51,-227.25C312.67,-215.57 314,-202.26 315.03,-191.87\"/>\n</g>\n<!-- (&#39;fields&#39;, &#39;biomass&#39;, 0, 0) -->\n<g id=\"node11\" class=\"node\">\n<title>(&#39;fields&#39;, &#39;biomass&#39;, 0, 0)</title>\n<ellipse fill=\"none\" stroke=\"black\" stroke-width=\"2\" cx=\"381.8\" cy=\"-100\" rx=\"18\" ry=\"18\"/>\n<text text-anchor=\"start\" x=\"378.8\" y=\"-96.4\" font-family=\"Times,serif\" font-size=\"12.00\">0</text>\n</g>\n<!-- (&#39;fields&#39;, &#39;biomass&#39;, 0)&#45;&gt;(&#39;fields&#39;, &#39;biomass&#39;, 0, 0) -->\n<g id=\"edge9\" class=\"edge\">\n<title>(&#39;fields&#39;, &#39;biomass&#39;, 0)&#45;&gt;(&#39;fields&#39;, &#39;biomass&#39;, 0, 0)</title>\n<path fill=\"none\" stroke=\"black\" stroke-width=\"2\" d=\"M329.03,-158.65C340.65,-145.95 358.03,-126.97 369.63,-114.29\"/>\n</g>\n<!-- (&#39;fields&#39;, &#39;biomass&#39;, 0, 0)&#45;&gt;(&#39;dFBA&#39;,) -->\n<g id=\"edge12\" class=\"edge\">\n<title>(&#39;fields&#39;, &#39;biomass&#39;, 0, 0)&#45;&gt;(&#39;dFBA&#39;,)</title>\n<path fill=\"none\" stroke=\"black\" stroke-dasharray=\"5,2\" d=\"M372.11,-84.23C365.03,-74.45 354.62,-62 342.8,-54 324.18,-41.39 300.55,-32.87 280.83,-27.4\"/>\n<polygon fill=\"black\" stroke=\"black\" points=\"281.76,-24.03 271.2,-24.91 280,-30.8 281.76,-24.03\"/>\n<text text-anchor=\"start\" x=\"353.8\" y=\"-56\" font-family=\"Times,serif\" font-size=\"10.00\">substrates/biomass</text>\n</g>\n<!-- (&#39;fields&#39;, &#39;biomass&#39;, 0, 0)&#45;&gt;(&#39;dFBA&#39;,) -->\n<g id=\"edge17\" class=\"edge\">\n<title>(&#39;fields&#39;, &#39;biomass&#39;, 0, 0)&#45;&gt;(&#39;dFBA&#39;,)</title>\n<path fill=\"none\" stroke=\"black\" stroke-dasharray=\"5,2\" d=\"M409.66,-87.77C426.77,-79.25 443.51,-66.85 432.8,-54 412.35,-29.46 317.52,-22.07 269.63,-19.89\"/>\n<polygon fill=\"black\" stroke=\"black\" points=\"408.23,-84.58 400.59,-91.91 411.14,-90.94 408.23,-84.58\"/>\n<text text-anchor=\"start\" x=\"435.8\" y=\"-56\" font-family=\"Times,serif\" font-size=\"10.00\">substrates/biomass</text>\n</g>\n</g>\n</svg>\n",
      "text/plain": [
       "<graphviz.graphs.Digraph at 0x174fb2dd0>"
      ]
     },
     "execution_count": 109,
     "metadata": {},
     "output_type": "execute_result"
    }
   ],
   "execution_count": 109
  },
  {
   "metadata": {
    "ExecuteTime": {
     "end_time": "2025-04-13T19:48:49.105177Z",
     "start_time": "2025-04-13T19:48:49.096376Z"
    }
   },
   "cell_type": "code",
   "source": [
    "v.set_value(path = ['fields', 'glucose', 0, 0], value=10)\n",
    "v.set_value(path = ['fields', 'biomass', 0, 0], value=0.1)\n",
    "field = v.get_value(['fields'])\n",
    "print(field)"
   ],
   "id": "6d6a1b3508f477e0",
   "outputs": [
    {
     "name": "stdout",
     "output_type": "stream",
     "text": [
      "{'glucose': {0: {0: 10}}, 'acetate': {0: {0: 0.0}}, 'biomass': {0: {0: 0.1}}}\n"
     ]
    }
   ],
   "execution_count": 110
  },
  {
   "metadata": {
    "ExecuteTime": {
     "end_time": "2025-04-13T19:48:49.161535Z",
     "start_time": "2025-04-13T19:48:49.114492Z"
    }
   },
   "cell_type": "code",
   "source": [
    "# run the simulation for 10 time units\n",
    "v.run(interval=60)"
   ],
   "id": "9a7c8befcc1c0139",
   "outputs": [],
   "execution_count": 111
  },
  {
   "metadata": {
    "ExecuteTime": {
     "end_time": "2025-04-13T19:48:49.219745Z",
     "start_time": "2025-04-13T19:48:49.167928Z"
    }
   },
   "cell_type": "code",
   "source": [
    "v.plot_timeseries(\n",
    "    subplot_size=(8, 3),\n",
    "    combined_vars=[\n",
    "        [\n",
    "            '/fields/glucose/0/0',\n",
    "            '/fields/acetate/0/0',\n",
    "            '/fields/biomass/0/0'\n",
    "        ]\n",
    "    ]\n",
    ")"
   ],
   "id": "cc668cc073e83bf3",
   "outputs": [
    {
     "data": {
      "text/plain": [
       "<Figure size 800x300 with 1 Axes>"
      ],
      "image/png": "[encoded data removed]"
     },
     "execution_count": 112,
     "metadata": {},
     "output_type": "execute_result"
    }
   ],
   "execution_count": 112
  },
  {
   "metadata": {},
   "cell_type": "markdown",
   "source": "## Spatial Dynamic FBA",
   "id": "76cd24ec882941b2"
  },
  {
   "metadata": {
    "ExecuteTime": {
     "end_time": "2025-04-13T19:49:22.783039Z",
     "start_time": "2025-04-13T19:49:22.685412Z"
    }
   },
   "cell_type": "code",
   "source": [
    "mol_ids = [\"glucose\", \"acetate\", \"biomass\"]\n",
    "path=[\"fields\"]\n",
    "rows = 1\n",
    "columns = 1\n",
    "\n",
    "# make the vivarium\n",
    "v2 = Vivarium(processes=PROCESS_DICT, types=TYPES_DICT)\n",
    "for mol_id in mol_ids:\n",
    "    v2.add_object(\n",
    "        name=mol_id,\n",
    "        path=path,\n",
    "        # type='array',\n",
    "        value=np.random.rand(rows, columns)\n",
    "    )\n",
    "\n",
    "# add a dynamic FBA process at every location\n",
    "for i in range(rows):\n",
    "    for j in range(columns):\n",
    "        dfba_name = f\"dFBA[{i},{j}]\"\n",
    "        path_name = build_path('mol_id', path, i, j)\n",
    "        print(f'Adding {dfba_name} to {path_name}\\n')\n",
    "\n",
    "        rewire_path= path  # [\"..\"] + path\n",
    "\n",
    "        # add a process for this location\n",
    "        v2.add_process(\n",
    "            name=dfba_name,\n",
    "            process_id=\"DynamicFBA\",\n",
    "            # path=['species'],\n",
    "            config=dfba_config,\n",
    "        )\n",
    "        v2.connect_process(\n",
    "            process_name=dfba_name,\n",
    "            # path=['species'],\n",
    "            inputs={\n",
    "                    \"substrates\": {\n",
    "                        mol_id: build_path(mol_id, rewire_path, i, j)\n",
    "                        for mol_id in mol_ids}\n",
    "                },\n",
    "            outputs={\n",
    "                    \"substrates\": {\n",
    "                        mol_id: build_path(mol_id, rewire_path, i, j)\n",
    "                        for mol_id in mol_ids}\n",
    "                }\n",
    "        )\n",
    "\n",
    "# add an emitter to save results\n",
    "v2.add_emitter()\n",
    "\n",
    "v2.diagram(dpi='70')"
   ],
   "id": "8de7c459d363838",
   "outputs": [
    {
     "name": "stdout",
     "output_type": "stream",
     "text": [
      "Adding dFBA[0,0] to ['fields', 'mol_id', 0, 0]\n",
      "\n"
     ]
    },
    {
     "data": {
      "image/svg+xml": "<?xml version=\"1.0\" encoding=\"UTF-8\" standalone=\"no\"?>\n<!DOCTYPE svg PUBLIC \"-//W3C//DTD SVG 1.1//EN\"\n \"http://www.w3.org/Graphics/SVG/1.1/DTD/svg11.dtd\">\n<!-- Generated by graphviz version 9.0.0 (0)\n -->\n<!-- Title: bigraph Pages: 1 -->\n<svg width=\"802pt\" height=\"180pt\"\n viewBox=\"0.00 0.00 825.13 185.29\" xmlns=\"http://www.w3.org/2000/svg\" xmlns:xlink=\"http://www.w3.org/1999/xlink\">\n<g id=\"graph0\" class=\"graph\" transform=\"scale(0.972222 0.972222) rotate(0) translate(4 181.29)\">\n<title>bigraph</title>\n<polygon fill=\"white\" stroke=\"none\" points=\"-4,4 -4,-181.29 821.13,-181.29 821.13,4 -4,4\"/>\n<!-- (&#39;global_time&#39;,) -->\n<g id=\"node1\" class=\"node\">\n<title>(&#39;global_time&#39;,)</title>\n<ellipse fill=\"none\" stroke=\"black\" stroke-width=\"2\" cx=\"38.14\" cy=\"-139.15\" rx=\"38.14\" ry=\"38.14\"/>\n<text text-anchor=\"start\" x=\"9.48\" y=\"-135.55\" font-family=\"Times,serif\" font-size=\"12.00\">global_time</text>\n</g>\n<!-- (&#39;emitter&#39;,) -->\n<g id=\"node7\" class=\"node\">\n<title>(&#39;emitter&#39;,)</title>\n<polygon fill=\"none\" stroke=\"black\" stroke-width=\"2\" points=\"83.14,-45.51 29.14,-45.51 29.14,-9.51 83.14,-9.51 83.14,-45.51\"/>\n<text text-anchor=\"start\" x=\"39.15\" y=\"-23.91\" font-family=\"Times,serif\" font-size=\"12.00\">emitter</text>\n</g>\n<!-- (&#39;global_time&#39;,)&#45;&gt;(&#39;emitter&#39;,) -->\n<g id=\"edge8\" class=\"edge\">\n<title>(&#39;global_time&#39;,)&#45;&gt;(&#39;emitter&#39;,)</title>\n<path fill=\"none\" stroke=\"black\" stroke-dasharray=\"5,2\" d=\"M36.67,-100.38C36.92,-91.35 37.69,-81.79 39.37,-73.01 40.4,-67.62 42.03,-62.02 43.88,-56.7\"/>\n<polygon fill=\"black\" stroke=\"black\" points=\"47.01,-58.29 47.31,-47.7 40.47,-55.8 47.01,-58.29\"/>\n<text text-anchor=\"start\" x=\"40.14\" y=\"-75.01\" font-family=\"Times,serif\" font-size=\"10.00\">global_time</text>\n</g>\n<!-- (&#39;fields&#39;,) -->\n<g id=\"node2\" class=\"node\">\n<title>(&#39;fields&#39;,)</title>\n<ellipse fill=\"none\" stroke=\"black\" stroke-width=\"2\" cx=\"175.14\" cy=\"-139.15\" rx=\"19.63\" ry=\"19.63\"/>\n<text text-anchor=\"start\" x=\"162.14\" y=\"-135.55\" font-family=\"Times,serif\" font-size=\"12.00\">fields</text>\n</g>\n<!-- (&#39;fields&#39;, &#39;glucose&#39;) -->\n<g id=\"node3\" class=\"node\">\n<title>(&#39;fields&#39;, &#39;glucose&#39;)</title>\n<ellipse fill=\"none\" stroke=\"black\" stroke-width=\"2\" cx=\"136.14\" cy=\"-27.51\" rx=\"25.92\" ry=\"25.92\"/>\n<text text-anchor=\"start\" x=\"117.81\" y=\"-23.91\" font-family=\"Times,serif\" font-size=\"12.00\">glucose</text>\n</g>\n<!-- (&#39;fields&#39;,)&#45;&gt;(&#39;fields&#39;, &#39;glucose&#39;) -->\n<g id=\"edge1\" class=\"edge\">\n<title>(&#39;fields&#39;,)&#45;&gt;(&#39;fields&#39;, &#39;glucose&#39;)</title>\n<path fill=\"none\" stroke=\"black\" stroke-width=\"2\" d=\"M168.7,-120.04C162.16,-101.67 152.01,-73.13 144.78,-52.8\"/>\n</g>\n<!-- (&#39;fields&#39;, &#39;acetate&#39;) -->\n<g id=\"node4\" class=\"node\">\n<title>(&#39;fields&#39;, &#39;acetate&#39;)</title>\n<ellipse fill=\"none\" stroke=\"black\" stroke-width=\"2\" cx=\"204.14\" cy=\"-27.51\" rx=\"23.94\" ry=\"23.94\"/>\n<text text-anchor=\"start\" x=\"187.49\" y=\"-23.91\" font-family=\"Times,serif\" font-size=\"12.00\">acetate</text>\n</g>\n<!-- (&#39;fields&#39;,)&#45;&gt;(&#39;fields&#39;, &#39;acetate&#39;) -->\n<g id=\"edge2\" class=\"edge\">\n<title>(&#39;fields&#39;,)&#45;&gt;(&#39;fields&#39;, &#39;acetate&#39;)</title>\n<path fill=\"none\" stroke=\"black\" stroke-width=\"2\" d=\"M180.06,-119.55C185.03,-100.73 192.74,-71.61 198.09,-51.39\"/>\n</g>\n<!-- (&#39;fields&#39;, &#39;biomass&#39;) -->\n<g id=\"node5\" class=\"node\">\n<title>(&#39;fields&#39;, &#39;biomass&#39;)</title>\n<ellipse fill=\"none\" stroke=\"black\" stroke-width=\"2\" cx=\"273.14\" cy=\"-27.51\" rx=\"27.51\" ry=\"27.51\"/>\n<text text-anchor=\"start\" x=\"253.47\" y=\"-23.91\" font-family=\"Times,serif\" font-size=\"12.00\">biomass</text>\n</g>\n<!-- (&#39;fields&#39;,)&#45;&gt;(&#39;fields&#39;, &#39;biomass&#39;) -->\n<g id=\"edge3\" class=\"edge\">\n<title>(&#39;fields&#39;,)&#45;&gt;(&#39;fields&#39;, &#39;biomass&#39;)</title>\n<path fill=\"none\" stroke=\"black\" stroke-width=\"2\" d=\"M188.35,-123.36C205.49,-104.19 235.47,-70.65 254.8,-49.02\"/>\n</g>\n<!-- (&#39;fields&#39;,)&#45;&gt;(&#39;emitter&#39;,) -->\n<g id=\"edge7\" class=\"edge\">\n<title>(&#39;fields&#39;,)&#45;&gt;(&#39;emitter&#39;,)</title>\n<path fill=\"none\" stroke=\"black\" stroke-dasharray=\"5,2\" d=\"M160.55,-124.7C141.53,-107.18 107.89,-76.19 83.93,-54.11\"/>\n<polygon fill=\"black\" stroke=\"black\" points=\"86.43,-51.65 76.7,-47.45 81.68,-56.8 86.43,-51.65\"/>\n<text text-anchor=\"start\" x=\"112.14\" y=\"-75.01\" font-family=\"Times,serif\" font-size=\"10.00\">fields</text>\n</g>\n<!-- (&#39;dFBA[0,0]&#39;,) -->\n<g id=\"node6\" class=\"node\">\n<title>(&#39;dFBA[0,0]&#39;,)</title>\n<polygon fill=\"none\" stroke=\"black\" stroke-width=\"2\" points=\"573.91,-45.51 514.37,-45.51 514.37,-9.51 573.91,-9.51 573.91,-45.51\"/>\n<text text-anchor=\"start\" x=\"517.97\" y=\"-23.91\" font-family=\"Times,serif\" font-size=\"12.00\">dFBA[0,0]</text>\n</g>\n<!-- (&#39;fields&#39;, &#39;glucose&#39;, 0, 0) -->\n<g id=\"node8\" class=\"node\">\n<title>(&#39;fields&#39;, &#39;glucose&#39;, 0, 0)</title>\n<ellipse fill=\"none\" stroke=\"black\" stroke-width=\"2\" cx=\"354.14\" cy=\"-139.15\" rx=\"18\" ry=\"18\"/>\n<text text-anchor=\"start\" x=\"351.14\" y=\"-135.55\" font-family=\"Times,serif\" font-size=\"12.00\">0</text>\n</g>\n<!-- (&#39;fields&#39;, &#39;glucose&#39;, 0, 0)&#45;&gt;(&#39;dFBA[0,0]&#39;,) -->\n<g id=\"edge4\" class=\"edge\">\n<title>(&#39;fields&#39;, &#39;glucose&#39;, 0, 0)&#45;&gt;(&#39;dFBA[0,0]&#39;,)</title>\n<path fill=\"none\" stroke=\"black\" stroke-dasharray=\"5,2\" d=\"M338.71,-128.57C319.7,-115.58 291.73,-91.87 307.37,-73.01 331.71,-43.68 441.4,-33.55 502.57,-30.15\"/>\n<polygon fill=\"black\" stroke=\"black\" points=\"502.44,-33.67 512.25,-29.66 502.08,-26.68 502.44,-33.67\"/>\n<text text-anchor=\"start\" x=\"308.14\" y=\"-75.01\" font-family=\"Times,serif\" font-size=\"10.00\">substrates/glucose</text>\n</g>\n<!-- (&#39;fields&#39;, &#39;glucose&#39;, 0, 0)&#45;&gt;(&#39;dFBA[0,0]&#39;,) -->\n<g id=\"edge9\" class=\"edge\">\n<title>(&#39;fields&#39;, &#39;glucose&#39;, 0, 0)&#45;&gt;(&#39;dFBA[0,0]&#39;,)</title>\n<path fill=\"none\" stroke=\"black\" stroke-dasharray=\"5,2\" d=\"M372.89,-115.64C385.43,-101.79 402.95,-84.53 421.37,-73.01 450.31,-54.93 487.65,-42.72 513.51,-35.74\"/>\n<polygon fill=\"black\" stroke=\"black\" points=\"370.38,-113.2 366.42,-123.03 375.64,-117.82 370.38,-113.2\"/>\n<text text-anchor=\"start\" x=\"422.14\" y=\"-75.01\" font-family=\"Times,serif\" font-size=\"10.00\">substrates/glucose</text>\n</g>\n<!-- (&#39;fields&#39;, &#39;acetate&#39;, 0, 0) -->\n<g id=\"node9\" class=\"node\">\n<title>(&#39;fields&#39;, &#39;acetate&#39;, 0, 0)</title>\n<ellipse fill=\"none\" stroke=\"black\" stroke-width=\"2\" cx=\"544.14\" cy=\"-139.15\" rx=\"18\" ry=\"18\"/>\n<text text-anchor=\"start\" x=\"541.14\" y=\"-135.55\" font-family=\"Times,serif\" font-size=\"12.00\">0</text>\n</g>\n<!-- (&#39;fields&#39;, &#39;acetate&#39;, 0, 0)&#45;&gt;(&#39;dFBA[0,0]&#39;,) -->\n<g id=\"edge5\" class=\"edge\">\n<title>(&#39;fields&#39;, &#39;acetate&#39;, 0, 0)&#45;&gt;(&#39;dFBA[0,0]&#39;,)</title>\n<path fill=\"none\" stroke=\"black\" stroke-dasharray=\"5,2\" d=\"M530.59,-126.6C519.76,-116.4 505.39,-100.47 499.17,-83.01 495.44,-72.52 500,-62.62 507.45,-54.21\"/>\n<polygon fill=\"black\" stroke=\"black\" points=\"509.78,-56.82 514.57,-47.37 504.93,-51.78 509.78,-56.82\"/>\n<text text-anchor=\"start\" x=\"500.14\" y=\"-75.01\" font-family=\"Times,serif\" font-size=\"10.00\">substrates/acetate</text>\n</g>\n<!-- (&#39;fields&#39;, &#39;acetate&#39;, 0, 0)&#45;&gt;(&#39;dFBA[0,0]&#39;,) -->\n<g id=\"edge10\" class=\"edge\">\n<title>(&#39;fields&#39;, &#39;acetate&#39;, 0, 0)&#45;&gt;(&#39;dFBA[0,0]&#39;,)</title>\n<path fill=\"none\" stroke=\"black\" stroke-dasharray=\"5,2\" d=\"M561.07,-114.17C567.63,-102.04 572.79,-86.97 569.14,-73.01 566.67,-63.58 561.71,-54.04 556.85,-46.22\"/>\n<polygon fill=\"black\" stroke=\"black\" points=\"558.11,-112.3 555.92,-122.67 564.09,-115.93 558.11,-112.3\"/>\n<text text-anchor=\"start\" x=\"570.14\" y=\"-75.01\" font-family=\"Times,serif\" font-size=\"10.00\">substrates/acetate</text>\n</g>\n<!-- (&#39;fields&#39;, &#39;biomass&#39;, 0, 0) -->\n<g id=\"node10\" class=\"node\">\n<title>(&#39;fields&#39;, &#39;biomass&#39;, 0, 0)</title>\n<ellipse fill=\"none\" stroke=\"black\" stroke-width=\"2\" cx=\"733.14\" cy=\"-139.15\" rx=\"18\" ry=\"18\"/>\n<text text-anchor=\"start\" x=\"730.14\" y=\"-135.55\" font-family=\"Times,serif\" font-size=\"12.00\">0</text>\n</g>\n<!-- (&#39;fields&#39;, &#39;biomass&#39;, 0, 0)&#45;&gt;(&#39;dFBA[0,0]&#39;,) -->\n<g id=\"edge6\" class=\"edge\">\n<title>(&#39;fields&#39;, &#39;biomass&#39;, 0, 0)&#45;&gt;(&#39;dFBA[0,0]&#39;,)</title>\n<path fill=\"none\" stroke=\"black\" stroke-dasharray=\"5,2\" d=\"M719.29,-126.56C702.31,-112.7 672.3,-89.33 644.14,-73.01 625.45,-62.18 603.63,-52.19 585.16,-44.43\"/>\n<polygon fill=\"black\" stroke=\"black\" points=\"586.7,-41.28 576.12,-40.71 584.03,-47.75 586.7,-41.28\"/>\n<text text-anchor=\"start\" x=\"659.14\" y=\"-75.01\" font-family=\"Times,serif\" font-size=\"10.00\">substrates/biomass</text>\n</g>\n<!-- (&#39;fields&#39;, &#39;biomass&#39;, 0, 0)&#45;&gt;(&#39;dFBA[0,0]&#39;,) -->\n<g id=\"edge11\" class=\"edge\">\n<title>(&#39;fields&#39;, &#39;biomass&#39;, 0, 0)&#45;&gt;(&#39;dFBA[0,0]&#39;,)</title>\n<path fill=\"none\" stroke=\"black\" stroke-dasharray=\"5,2\" d=\"M743.26,-110.62C746.07,-97.92 746.42,-83.4 738.14,-73.01 718.06,-47.81 624.27,-35.71 574.83,-30.99\"/>\n<polygon fill=\"black\" stroke=\"black\" points=\"739.92,-109.56 740.58,-120.14 746.66,-111.46 739.92,-109.56\"/>\n<text text-anchor=\"start\" x=\"742.14\" y=\"-75.01\" font-family=\"Times,serif\" font-size=\"10.00\">substrates/biomass</text>\n</g>\n</g>\n</svg>\n",
      "text/plain": [
       "<graphviz.graphs.Digraph at 0x177419850>"
      ]
     },
     "execution_count": 119,
     "metadata": {},
     "output_type": "execute_result"
    }
   ],
   "execution_count": 119
  },
  {
   "metadata": {
    "ExecuteTime": {
     "end_time": "2025-04-13T19:48:49.332762Z",
     "start_time": "2025-04-13T19:48:49.311413Z"
    }
   },
   "cell_type": "code",
   "source": "v2.run(20)",
   "id": "2182d1583da15e",
   "outputs": [],
   "execution_count": 114
  },
  {
   "metadata": {
    "ExecuteTime": {
     "end_time": "2025-04-13T19:48:49.339953Z",
     "start_time": "2025-04-13T19:48:49.338335Z"
    }
   },
   "cell_type": "code",
   "source": "timeseries = v2.get_timeseries()",
   "id": "eabda4501b519fa2",
   "outputs": [],
   "execution_count": 115
  },
  {
   "metadata": {
    "ExecuteTime": {
     "end_time": "2025-04-13T19:48:49.354662Z",
     "start_time": "2025-04-13T19:48:49.345150Z"
    }
   },
   "cell_type": "code",
   "source": "timeseries",
   "id": "c43e4305ef232741",
   "outputs": [
    {
     "data": {
      "text/plain": [
       "   /global_time           /fields/glucose         /fields/acetate  \\\n",
       "0           0.0   [[0.48725581278884245]]  [[0.1833352950628817]]   \n",
       "1           1.0   [[0.18405349056336529]]                 [[0.0]]   \n",
       "2           2.0  [[0.010089832634802148]]                 [[0.0]]   \n",
       "3           3.0  [[0.010089832634802148]]                 [[0.0]]   \n",
       "4           4.0  [[0.010089832634802148]]                 [[0.0]]   \n",
       "5           5.0  [[0.010089832634802148]]                 [[0.0]]   \n",
       "6           6.0  [[0.010089832634802148]]                 [[0.0]]   \n",
       "7           7.0  [[0.010089832634802148]]                 [[0.0]]   \n",
       "8           8.0  [[0.010089832634802148]]                 [[0.0]]   \n",
       "9           9.0  [[0.010089832634802148]]                 [[0.0]]   \n",
       "10         10.0  [[0.010089832634802148]]                 [[0.0]]   \n",
       "11         11.0  [[0.010089832634802148]]                 [[0.0]]   \n",
       "12         12.0  [[0.010089832634802148]]                 [[0.0]]   \n",
       "13         13.0  [[0.010089832634802148]]                 [[0.0]]   \n",
       "14         14.0  [[0.010089832634802148]]                 [[0.0]]   \n",
       "15         15.0  [[0.010089832634802148]]                 [[0.0]]   \n",
       "16         16.0  [[0.010089832634802148]]                 [[0.0]]   \n",
       "17         17.0  [[0.010089832634802148]]                 [[0.0]]   \n",
       "18         18.0  [[0.010089832634802148]]                 [[0.0]]   \n",
       "19         19.0  [[0.010089832634802148]]                 [[0.0]]   \n",
       "20         20.0  [[0.010089832634802148]]                 [[0.0]]   \n",
       "\n",
       "           /fields/biomass  \n",
       "0   [[0.6143349082997999]]  \n",
       "1   [[0.6465536028301284]]  \n",
       "2   [[0.6592073723003393]]  \n",
       "3   [[0.6592073723003393]]  \n",
       "4   [[0.6592073723003393]]  \n",
       "5   [[0.6592073723003393]]  \n",
       "6   [[0.6592073723003393]]  \n",
       "7   [[0.6592073723003393]]  \n",
       "8   [[0.6592073723003393]]  \n",
       "9   [[0.6592073723003393]]  \n",
       "10  [[0.6592073723003393]]  \n",
       "11  [[0.6592073723003393]]  \n",
       "12  [[0.6592073723003393]]  \n",
       "13  [[0.6592073723003393]]  \n",
       "14  [[0.6592073723003393]]  \n",
       "15  [[0.6592073723003393]]  \n",
       "16  [[0.6592073723003393]]  \n",
       "17  [[0.6592073723003393]]  \n",
       "18  [[0.6592073723003393]]  \n",
       "19  [[0.6592073723003393]]  \n",
       "20  [[0.6592073723003393]]  "
      ],
      "text/html": [
       "<div>\n",
       "<style scoped>\n",
       "    .dataframe tbody tr th:only-of-type {\n",
       "        vertical-align: middle;\n",
       "    }\n",
       "\n",
       "    .dataframe tbody tr th {\n",
       "        vertical-align: top;\n",
       "    }\n",
       "\n",
       "    .dataframe thead th {\n",
       "        text-align: right;\n",
       "    }\n",
       "</style>\n",
       "<table border=\"1\" class=\"dataframe\">\n",
       "  <thead>\n",
       "    <tr style=\"text-align: right;\">\n",
       "      <th></th>\n",
       "      <th>/global_time</th>\n",
       "      <th>/fields/glucose</th>\n",
       "      <th>/fields/acetate</th>\n",
       "      <th>/fields/biomass</th>\n",
       "    </tr>\n",
       "  </thead>\n",
       "  <tbody>\n",
       "    <tr>\n",
       "      <th>0</th>\n",
       "      <td>0.0</td>\n",
       "      <td>[[0.48725581278884245]]</td>\n",
       "      <td>[[0.1833352950628817]]</td>\n",
       "      <td>[[0.6143349082997999]]</td>\n",
       "    </tr>\n",
       "    <tr>\n",
       "      <th>1</th>\n",
       "      <td>1.0</td>\n",
       "      <td>[[0.18405349056336529]]</td>\n",
       "      <td>[[0.0]]</td>\n",
       "      <td>[[0.6465536028301284]]</td>\n",
       "    </tr>\n",
       "    <tr>\n",
       "      <th>2</th>\n",
       "      <td>2.0</td>\n",
       "      <td>[[0.010089832634802148]]</td>\n",
       "      <td>[[0.0]]</td>\n",
       "      <td>[[0.6592073723003393]]</td>\n",
       "    </tr>\n",
       "    <tr>\n",
       "      <th>3</th>\n",
       "      <td>3.0</td>\n",
       "      <td>[[0.010089832634802148]]</td>\n",
       "      <td>[[0.0]]</td>\n",
       "      <td>[[0.6592073723003393]]</td>\n",
       "    </tr>\n",
       "    <tr>\n",
       "      <th>4</th>\n",
       "      <td>4.0</td>\n",
       "      <td>[[0.010089832634802148]]</td>\n",
       "      <td>[[0.0]]</td>\n",
       "      <td>[[0.6592073723003393]]</td>\n",
       "    </tr>\n",
       "    <tr>\n",
       "      <th>5</th>\n",
       "      <td>5.0</td>\n",
       "      <td>[[0.010089832634802148]]</td>\n",
       "      <td>[[0.0]]</td>\n",
       "      <td>[[0.6592073723003393]]</td>\n",
       "    </tr>\n",
       "    <tr>\n",
       "      <th>6</th>\n",
       "      <td>6.0</td>\n",
       "      <td>[[0.010089832634802148]]</td>\n",
       "      <td>[[0.0]]</td>\n",
       "      <td>[[0.6592073723003393]]</td>\n",
       "    </tr>\n",
       "    <tr>\n",
       "      <th>7</th>\n",
       "      <td>7.0</td>\n",
       "      <td>[[0.010089832634802148]]</td>\n",
       "      <td>[[0.0]]</td>\n",
       "      <td>[[0.6592073723003393]]</td>\n",
       "    </tr>\n",
       "    <tr>\n",
       "      <th>8</th>\n",
       "      <td>8.0</td>\n",
       "      <td>[[0.010089832634802148]]</td>\n",
       "      <td>[[0.0]]</td>\n",
       "      <td>[[0.6592073723003393]]</td>\n",
       "    </tr>\n",
       "    <tr>\n",
       "      <th>9</th>\n",
       "      <td>9.0</td>\n",
       "      <td>[[0.010089832634802148]]</td>\n",
       "      <td>[[0.0]]</td>\n",
       "      <td>[[0.6592073723003393]]</td>\n",
       "    </tr>\n",
       "    <tr>\n",
       "      <th>10</th>\n",
       "      <td>10.0</td>\n",
       "      <td>[[0.010089832634802148]]</td>\n",
       "      <td>[[0.0]]</td>\n",
       "      <td>[[0.6592073723003393]]</td>\n",
       "    </tr>\n",
       "    <tr>\n",
       "      <th>11</th>\n",
       "      <td>11.0</td>\n",
       "      <td>[[0.010089832634802148]]</td>\n",
       "      <td>[[0.0]]</td>\n",
       "      <td>[[0.6592073723003393]]</td>\n",
       "    </tr>\n",
       "    <tr>\n",
       "      <th>12</th>\n",
       "      <td>12.0</td>\n",
       "      <td>[[0.010089832634802148]]</td>\n",
       "      <td>[[0.0]]</td>\n",
       "      <td>[[0.6592073723003393]]</td>\n",
       "    </tr>\n",
       "    <tr>\n",
       "      <th>13</th>\n",
       "      <td>13.0</td>\n",
       "      <td>[[0.010089832634802148]]</td>\n",
       "      <td>[[0.0]]</td>\n",
       "      <td>[[0.6592073723003393]]</td>\n",
       "    </tr>\n",
       "    <tr>\n",
       "      <th>14</th>\n",
       "      <td>14.0</td>\n",
       "      <td>[[0.010089832634802148]]</td>\n",
       "      <td>[[0.0]]</td>\n",
       "      <td>[[0.6592073723003393]]</td>\n",
       "    </tr>\n",
       "    <tr>\n",
       "      <th>15</th>\n",
       "      <td>15.0</td>\n",
       "      <td>[[0.010089832634802148]]</td>\n",
       "      <td>[[0.0]]</td>\n",
       "      <td>[[0.6592073723003393]]</td>\n",
       "    </tr>\n",
       "    <tr>\n",
       "      <th>16</th>\n",
       "      <td>16.0</td>\n",
       "      <td>[[0.010089832634802148]]</td>\n",
       "      <td>[[0.0]]</td>\n",
       "      <td>[[0.6592073723003393]]</td>\n",
       "    </tr>\n",
       "    <tr>\n",
       "      <th>17</th>\n",
       "      <td>17.0</td>\n",
       "      <td>[[0.010089832634802148]]</td>\n",
       "      <td>[[0.0]]</td>\n",
       "      <td>[[0.6592073723003393]]</td>\n",
       "    </tr>\n",
       "    <tr>\n",
       "      <th>18</th>\n",
       "      <td>18.0</td>\n",
       "      <td>[[0.010089832634802148]]</td>\n",
       "      <td>[[0.0]]</td>\n",
       "      <td>[[0.6592073723003393]]</td>\n",
       "    </tr>\n",
       "    <tr>\n",
       "      <th>19</th>\n",
       "      <td>19.0</td>\n",
       "      <td>[[0.010089832634802148]]</td>\n",
       "      <td>[[0.0]]</td>\n",
       "      <td>[[0.6592073723003393]]</td>\n",
       "    </tr>\n",
       "    <tr>\n",
       "      <th>20</th>\n",
       "      <td>20.0</td>\n",
       "      <td>[[0.010089832634802148]]</td>\n",
       "      <td>[[0.0]]</td>\n",
       "      <td>[[0.6592073723003393]]</td>\n",
       "    </tr>\n",
       "  </tbody>\n",
       "</table>\n",
       "</div>"
      ]
     },
     "execution_count": 116,
     "metadata": {},
     "output_type": "execute_result"
    }
   ],
   "execution_count": 116
  },
  {
   "metadata": {
    "ExecuteTime": {
     "end_time": "2025-04-13T19:48:49.534145Z",
     "start_time": "2025-04-13T19:48:49.375193Z"
    }
   },
   "cell_type": "code",
   "source": [
    "v2.plot_timeseries(\n",
    "    subplot_size=(8, 3),\n",
    "    combined_vars=[\n",
    "        [\n",
    "            '/fields/glucose/0/0',\n",
    "            '/fields/acetate/0/0',\n",
    "            '/fields/biomass/0/0'\n",
    "        ]\n",
    "    ]\n",
    ")"
   ],
   "id": "c99171faa7be741a",
   "outputs": [
    {
     "ename": "KeyError",
     "evalue": "'/fields/glucose/0/0'",
     "output_type": "error",
     "traceback": [
      "\u001B[0;31m---------------------------------------------------------------------------\u001B[0m",
      "\u001B[0;31mKeyError\u001B[0m                                  Traceback (most recent call last)",
      "File \u001B[0;32m~/code/spatio-flux/venv/lib/python3.11/site-packages/pandas/core/indexes/base.py:3805\u001B[0m, in \u001B[0;36mIndex.get_loc\u001B[0;34m(self, key)\u001B[0m\n\u001B[1;32m   3804\u001B[0m \u001B[38;5;28;01mtry\u001B[39;00m:\n\u001B[0;32m-> 3805\u001B[0m     \u001B[38;5;28;01mreturn\u001B[39;00m \u001B[38;5;28;43mself\u001B[39;49m\u001B[38;5;241;43m.\u001B[39;49m\u001B[43m_engine\u001B[49m\u001B[38;5;241;43m.\u001B[39;49m\u001B[43mget_loc\u001B[49m\u001B[43m(\u001B[49m\u001B[43mcasted_key\u001B[49m\u001B[43m)\u001B[49m\n\u001B[1;32m   3806\u001B[0m \u001B[38;5;28;01mexcept\u001B[39;00m \u001B[38;5;167;01mKeyError\u001B[39;00m \u001B[38;5;28;01mas\u001B[39;00m err:\n",
      "File \u001B[0;32mindex.pyx:167\u001B[0m, in \u001B[0;36mpandas._libs.index.IndexEngine.get_loc\u001B[0;34m()\u001B[0m\n",
      "File \u001B[0;32mindex.pyx:196\u001B[0m, in \u001B[0;36mpandas._libs.index.IndexEngine.get_loc\u001B[0;34m()\u001B[0m\n",
      "File \u001B[0;32mpandas/_libs/hashtable_class_helper.pxi:7081\u001B[0m, in \u001B[0;36mpandas._libs.hashtable.PyObjectHashTable.get_item\u001B[0;34m()\u001B[0m\n",
      "File \u001B[0;32mpandas/_libs/hashtable_class_helper.pxi:7089\u001B[0m, in \u001B[0;36mpandas._libs.hashtable.PyObjectHashTable.get_item\u001B[0;34m()\u001B[0m\n",
      "\u001B[0;31mKeyError\u001B[0m: '/fields/glucose/0/0'",
      "\nThe above exception was the direct cause of the following exception:\n",
      "\u001B[0;31mKeyError\u001B[0m                                  Traceback (most recent call last)",
      "Cell \u001B[0;32mIn[117], line 1\u001B[0m\n\u001B[0;32m----> 1\u001B[0m \u001B[43mv2\u001B[49m\u001B[38;5;241;43m.\u001B[39;49m\u001B[43mplot_timeseries\u001B[49m\u001B[43m(\u001B[49m\n\u001B[1;32m      2\u001B[0m \u001B[43m    \u001B[49m\u001B[43msubplot_size\u001B[49m\u001B[38;5;241;43m=\u001B[39;49m\u001B[43m(\u001B[49m\u001B[38;5;241;43m8\u001B[39;49m\u001B[43m,\u001B[49m\u001B[43m \u001B[49m\u001B[38;5;241;43m3\u001B[39;49m\u001B[43m)\u001B[49m\u001B[43m,\u001B[49m\n\u001B[1;32m      3\u001B[0m \u001B[43m    \u001B[49m\u001B[43mcombined_vars\u001B[49m\u001B[38;5;241;43m=\u001B[39;49m\u001B[43m[\u001B[49m\n\u001B[1;32m      4\u001B[0m \u001B[43m        \u001B[49m\u001B[43m[\u001B[49m\n\u001B[1;32m      5\u001B[0m \u001B[43m            \u001B[49m\u001B[38;5;124;43m'\u001B[39;49m\u001B[38;5;124;43m/fields/glucose/0/0\u001B[39;49m\u001B[38;5;124;43m'\u001B[39;49m\u001B[43m,\u001B[49m\n\u001B[1;32m      6\u001B[0m \u001B[43m            \u001B[49m\u001B[38;5;124;43m'\u001B[39;49m\u001B[38;5;124;43m/fields/acetate/0/0\u001B[39;49m\u001B[38;5;124;43m'\u001B[39;49m\u001B[43m,\u001B[49m\n\u001B[1;32m      7\u001B[0m \u001B[43m            \u001B[49m\u001B[38;5;124;43m'\u001B[39;49m\u001B[38;5;124;43m/fields/biomass/0/0\u001B[39;49m\u001B[38;5;124;43m'\u001B[39;49m\n\u001B[1;32m      8\u001B[0m \u001B[43m        \u001B[49m\u001B[43m]\u001B[49m\n\u001B[1;32m      9\u001B[0m \u001B[43m    \u001B[49m\u001B[43m]\u001B[49m\n\u001B[1;32m     10\u001B[0m \u001B[43m)\u001B[49m\n",
      "File \u001B[0;32m~/code/vivarium-interface/vivarium/vivarium.py:592\u001B[0m, in \u001B[0;36mVivarium.plot_timeseries\u001B[0;34m(self, query, significant_digits, subplot_size, ncols, combined_vars)\u001B[0m\n\u001B[1;32m    590\u001B[0m \u001B[38;5;28;01mfor\u001B[39;00m ax, \u001B[38;5;28mvars\u001B[39m \u001B[38;5;129;01min\u001B[39;00m \u001B[38;5;28mzip\u001B[39m(axes[\u001B[38;5;28mlen\u001B[39m(individual_vars):], combined_vars):\n\u001B[1;32m    591\u001B[0m     \u001B[38;5;28;01mfor\u001B[39;00m var \u001B[38;5;129;01min\u001B[39;00m \u001B[38;5;28mvars\u001B[39m:\n\u001B[0;32m--> 592\u001B[0m         data \u001B[38;5;241m=\u001B[39m \u001B[43mtimeseries\u001B[49m\u001B[43m[\u001B[49m\u001B[43mvar\u001B[49m\u001B[43m]\u001B[49m\n\u001B[1;32m    593\u001B[0m         \u001B[38;5;28;01mif\u001B[39;00m \u001B[38;5;28mlen\u001B[39m(data) \u001B[38;5;241m<\u001B[39m \u001B[38;5;28mlen\u001B[39m(time):\n\u001B[1;32m    594\u001B[0m             data \u001B[38;5;241m=\u001B[39m [\u001B[38;5;241m0\u001B[39m] \u001B[38;5;241m*\u001B[39m (\u001B[38;5;28mlen\u001B[39m(time) \u001B[38;5;241m-\u001B[39m \u001B[38;5;28mlen\u001B[39m(data)) \u001B[38;5;241m+\u001B[39m data\n",
      "File \u001B[0;32m~/code/spatio-flux/venv/lib/python3.11/site-packages/pandas/core/frame.py:4102\u001B[0m, in \u001B[0;36mDataFrame.__getitem__\u001B[0;34m(self, key)\u001B[0m\n\u001B[1;32m   4100\u001B[0m \u001B[38;5;28;01mif\u001B[39;00m \u001B[38;5;28mself\u001B[39m\u001B[38;5;241m.\u001B[39mcolumns\u001B[38;5;241m.\u001B[39mnlevels \u001B[38;5;241m>\u001B[39m \u001B[38;5;241m1\u001B[39m:\n\u001B[1;32m   4101\u001B[0m     \u001B[38;5;28;01mreturn\u001B[39;00m \u001B[38;5;28mself\u001B[39m\u001B[38;5;241m.\u001B[39m_getitem_multilevel(key)\n\u001B[0;32m-> 4102\u001B[0m indexer \u001B[38;5;241m=\u001B[39m \u001B[38;5;28;43mself\u001B[39;49m\u001B[38;5;241;43m.\u001B[39;49m\u001B[43mcolumns\u001B[49m\u001B[38;5;241;43m.\u001B[39;49m\u001B[43mget_loc\u001B[49m\u001B[43m(\u001B[49m\u001B[43mkey\u001B[49m\u001B[43m)\u001B[49m\n\u001B[1;32m   4103\u001B[0m \u001B[38;5;28;01mif\u001B[39;00m is_integer(indexer):\n\u001B[1;32m   4104\u001B[0m     indexer \u001B[38;5;241m=\u001B[39m [indexer]\n",
      "File \u001B[0;32m~/code/spatio-flux/venv/lib/python3.11/site-packages/pandas/core/indexes/base.py:3812\u001B[0m, in \u001B[0;36mIndex.get_loc\u001B[0;34m(self, key)\u001B[0m\n\u001B[1;32m   3807\u001B[0m     \u001B[38;5;28;01mif\u001B[39;00m \u001B[38;5;28misinstance\u001B[39m(casted_key, \u001B[38;5;28mslice\u001B[39m) \u001B[38;5;129;01mor\u001B[39;00m (\n\u001B[1;32m   3808\u001B[0m         \u001B[38;5;28misinstance\u001B[39m(casted_key, abc\u001B[38;5;241m.\u001B[39mIterable)\n\u001B[1;32m   3809\u001B[0m         \u001B[38;5;129;01mand\u001B[39;00m \u001B[38;5;28many\u001B[39m(\u001B[38;5;28misinstance\u001B[39m(x, \u001B[38;5;28mslice\u001B[39m) \u001B[38;5;28;01mfor\u001B[39;00m x \u001B[38;5;129;01min\u001B[39;00m casted_key)\n\u001B[1;32m   3810\u001B[0m     ):\n\u001B[1;32m   3811\u001B[0m         \u001B[38;5;28;01mraise\u001B[39;00m InvalidIndexError(key)\n\u001B[0;32m-> 3812\u001B[0m     \u001B[38;5;28;01mraise\u001B[39;00m \u001B[38;5;167;01mKeyError\u001B[39;00m(key) \u001B[38;5;28;01mfrom\u001B[39;00m \u001B[38;5;21;01merr\u001B[39;00m\n\u001B[1;32m   3813\u001B[0m \u001B[38;5;28;01mexcept\u001B[39;00m \u001B[38;5;167;01mTypeError\u001B[39;00m:\n\u001B[1;32m   3814\u001B[0m     \u001B[38;5;66;03m# If we have a listlike key, _check_indexing_error will raise\u001B[39;00m\n\u001B[1;32m   3815\u001B[0m     \u001B[38;5;66;03m#  InvalidIndexError. Otherwise we fall through and re-raise\u001B[39;00m\n\u001B[1;32m   3816\u001B[0m     \u001B[38;5;66;03m#  the TypeError.\u001B[39;00m\n\u001B[1;32m   3817\u001B[0m     \u001B[38;5;28mself\u001B[39m\u001B[38;5;241m.\u001B[39m_check_indexing_error(key)\n",
      "\u001B[0;31mKeyError\u001B[0m: '/fields/glucose/0/0'"
     ]
    },
    {
     "data": {
      "text/plain": [
       "<Figure size 800x1200 with 4 Axes>"
      ],
      "image/png": "[encoded data removed]"
     },
     "metadata": {},
     "output_type": "display_data"
    }
   ],
   "execution_count": 117
  },
  {
   "metadata": {},
   "cell_type": "code",
   "outputs": [],
   "execution_count": null,
   "source": "",
   "id": "5584c7d665b812f5"
  }
 ],
 "metadata": {
  "kernelspec": {
   "display_name": "Python 3",
   "language": "python",
   "name": "python3"
  },
  "language_info": {
   "codemirror_mode": {
    "name": "ipython",
    "version": 2
   },
   "file_extension": ".py",
   "mimetype": "text/x-python",
   "name": "python",
   "nbconvert_exporter": "python",
   "pygments_lexer": "ipython2",
   "version": "2.7.6"
  }
 },
 "nbformat": 4,
 "nbformat_minor": 5
}
